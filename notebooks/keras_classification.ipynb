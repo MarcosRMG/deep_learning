{
  "cells": [
    {
      "cell_type": "markdown",
      "id": "062c9684-4ac8-4e68-ae12-4c0efe957038",
      "metadata": {
        "id": "062c9684-4ac8-4e68-ae12-4c0efe957038"
      },
      "source": [
        "# Imports"
      ]
    },
    {
      "cell_type": "code",
      "execution_count": 3,
      "id": "ef3e6c62-7b97-40fe-b980-c632b2892f8b",
      "metadata": {
        "id": "ef3e6c62-7b97-40fe-b980-c632b2892f8b"
      },
      "outputs": [],
      "source": [
        "import pandas as pd\n",
        "import random\n",
        "import pickle\n",
        "import numpy as np\n",
        "\n",
        "from sklearn.model_selection import train_test_split, KFold\n",
        "from sklearn.metrics import confusion_matrix, ConfusionMatrixDisplay\n",
        "\n",
        "import tensorflow as tf\n",
        "import keras_tuner as kt\n",
        "from tensorflow.keras.layers import TextVectorization\n",
        "from tensorflow.keras.preprocessing.sequence import pad_sequences\n",
        "\n",
        "import matplotlib.pyplot as plt"
      ]
    },
    {
      "cell_type": "code",
      "source": [
        "!pip install keras-tuner"
      ],
      "metadata": {
        "id": "0Fd470SzFT6K",
        "outputId": "a0d16882-691d-47ce-c3d2-7a73a695ead9",
        "colab": {
          "base_uri": "https://localhost:8080/"
        }
      },
      "id": "0Fd470SzFT6K",
      "execution_count": 2,
      "outputs": [
        {
          "output_type": "stream",
          "name": "stdout",
          "text": [
            "Collecting keras-tuner\n",
            "  Downloading keras_tuner-1.4.7-py3-none-any.whl.metadata (5.4 kB)\n",
            "Requirement already satisfied: keras in /usr/local/lib/python3.11/dist-packages (from keras-tuner) (3.8.0)\n",
            "Requirement already satisfied: packaging in /usr/local/lib/python3.11/dist-packages (from keras-tuner) (24.2)\n",
            "Requirement already satisfied: requests in /usr/local/lib/python3.11/dist-packages (from keras-tuner) (2.32.3)\n",
            "Collecting kt-legacy (from keras-tuner)\n",
            "  Downloading kt_legacy-1.0.5-py3-none-any.whl.metadata (221 bytes)\n",
            "Requirement already satisfied: absl-py in /usr/local/lib/python3.11/dist-packages (from keras->keras-tuner) (1.4.0)\n",
            "Requirement already satisfied: numpy in /usr/local/lib/python3.11/dist-packages (from keras->keras-tuner) (1.26.4)\n",
            "Requirement already satisfied: rich in /usr/local/lib/python3.11/dist-packages (from keras->keras-tuner) (13.9.4)\n",
            "Requirement already satisfied: namex in /usr/local/lib/python3.11/dist-packages (from keras->keras-tuner) (0.0.8)\n",
            "Requirement already satisfied: h5py in /usr/local/lib/python3.11/dist-packages (from keras->keras-tuner) (3.12.1)\n",
            "Requirement already satisfied: optree in /usr/local/lib/python3.11/dist-packages (from keras->keras-tuner) (0.14.0)\n",
            "Requirement already satisfied: ml-dtypes in /usr/local/lib/python3.11/dist-packages (from keras->keras-tuner) (0.4.1)\n",
            "Requirement already satisfied: charset-normalizer<4,>=2 in /usr/local/lib/python3.11/dist-packages (from requests->keras-tuner) (3.4.1)\n",
            "Requirement already satisfied: idna<4,>=2.5 in /usr/local/lib/python3.11/dist-packages (from requests->keras-tuner) (3.10)\n",
            "Requirement already satisfied: urllib3<3,>=1.21.1 in /usr/local/lib/python3.11/dist-packages (from requests->keras-tuner) (2.3.0)\n",
            "Requirement already satisfied: certifi>=2017.4.17 in /usr/local/lib/python3.11/dist-packages (from requests->keras-tuner) (2025.1.31)\n",
            "Requirement already satisfied: typing-extensions>=4.5.0 in /usr/local/lib/python3.11/dist-packages (from optree->keras->keras-tuner) (4.12.2)\n",
            "Requirement already satisfied: markdown-it-py>=2.2.0 in /usr/local/lib/python3.11/dist-packages (from rich->keras->keras-tuner) (3.0.0)\n",
            "Requirement already satisfied: pygments<3.0.0,>=2.13.0 in /usr/local/lib/python3.11/dist-packages (from rich->keras->keras-tuner) (2.18.0)\n",
            "Requirement already satisfied: mdurl~=0.1 in /usr/local/lib/python3.11/dist-packages (from markdown-it-py>=2.2.0->rich->keras->keras-tuner) (0.1.2)\n",
            "Downloading keras_tuner-1.4.7-py3-none-any.whl (129 kB)\n",
            "\u001b[?25l   \u001b[90m━━━━━━━━━━━━━━━━━━━━━━━━━━━━━━━━━━━━━━━━\u001b[0m \u001b[32m0.0/129.1 kB\u001b[0m \u001b[31m?\u001b[0m eta \u001b[36m-:--:--\u001b[0m\r\u001b[2K   \u001b[90m━━━━━━━━━━━━━━━━━━━━━━━━━━━━━━━━━━━━━━━━\u001b[0m \u001b[32m129.1/129.1 kB\u001b[0m \u001b[31m10.8 MB/s\u001b[0m eta \u001b[36m0:00:00\u001b[0m\n",
            "\u001b[?25hDownloading kt_legacy-1.0.5-py3-none-any.whl (9.6 kB)\n",
            "Installing collected packages: kt-legacy, keras-tuner\n",
            "Successfully installed keras-tuner-1.4.7 kt-legacy-1.0.5\n"
          ]
        }
      ]
    },
    {
      "cell_type": "markdown",
      "id": "73d6188f-48fe-418e-ab12-dd65f81b535c",
      "metadata": {
        "id": "73d6188f-48fe-418e-ab12-dd65f81b535c"
      },
      "source": [
        "# Function"
      ]
    },
    {
      "cell_type": "code",
      "execution_count": 4,
      "id": "715f7b1b-2e14-4690-8c04-2ddc1868dc77",
      "metadata": {
        "id": "715f7b1b-2e14-4690-8c04-2ddc1868dc77"
      },
      "outputs": [],
      "source": [
        "def plot_results(history, epochs):\n",
        "  acc = history.history['Accuracy']\n",
        "  val_acc = history.history['val_Accuracy']\n",
        "\n",
        "  loss = history.history['loss']\n",
        "  val_loss = history.history['val_loss']\n",
        "\n",
        "  epochs_intervals = range(epochs)\n",
        "  plt.figure(figsize=(12, 6))\n",
        "  plt.subplot(1, 2, 1)\n",
        "  plt.plot(epochs_intervals, acc, label='Train Accuracy')\n",
        "  plt.plot(epochs_intervals, val_acc, label='Validation Accuracy')\n",
        "  plt.legend(loc='lower right')\n",
        "\n",
        "  plt.subplot(1, 2, 2)\n",
        "  plt.plot(epochs_intervals, loss, label='Train Loss')\n",
        "  plt.plot(epochs_intervals, val_loss, label='Validation Loss')\n",
        "  plt.legend(loc='upper right')\n",
        "  plt.show()"
      ]
    },
    {
      "cell_type": "code",
      "execution_count": 5,
      "id": "d008ee38-ee04-448c-bd84-8c693a421629",
      "metadata": {
        "id": "d008ee38-ee04-448c-bd84-8c693a421629"
      },
      "outputs": [],
      "source": [
        "def build_model(hp):\n",
        "    model = tf.keras.Sequential([\n",
        "        encoder,\n",
        "        tf.keras.layers.Embedding(\n",
        "            input_dim=len(encoder.get_vocabulary()),\n",
        "            output_dim=hp.Int('embedding_dim', min_value=32, max_value=128, step=32),\n",
        "            mask_zero=True\n",
        "        ),\n",
        "        tf.keras.layers.Bidirectional(tf.keras.layers.LSTM(\n",
        "            units=hp.Int('lstm_units', min_value=32, max_value=128, step=32),\n",
        "            return_sequences=True\n",
        "        )),\n",
        "        tf.keras.layers.Bidirectional(tf.keras.layers.LSTM(\n",
        "            units=hp.Int('lstm_units', min_value=16, max_value=64, step=16)\n",
        "        )),\n",
        "        tf.keras.layers.Dense(\n",
        "            units=hp.Int('dense_units', min_value=32, max_value=128, step=32),\n",
        "            activation='relu'\n",
        "        ),\n",
        "        tf.keras.layers.Dropout(rate=hp.Float('dropout', min_value=0.2, max_value=0.5, step=0.1)),\n",
        "        tf.keras.layers.Dense(4, activation='softmax')\n",
        "    ])\n",
        "    model.compile(optimizer='adam', loss='sparse_categorical_crossentropy', metrics=['accuracy'])\n",
        "    return model"
      ]
    },
    {
      "cell_type": "code",
      "execution_count": 6,
      "id": "6e353667-2762-40e5-834c-b936011d4164",
      "metadata": {
        "id": "6e353667-2762-40e5-834c-b936011d4164"
      },
      "outputs": [],
      "source": [
        "# Função para fazer a validação cruzada e otimização de hiperparâmetros\n",
        "def run_tuner(X, y, n_splits=5):\n",
        "   kf = KFold(n_splits=n_splits, shuffle=True, random_state=42)\n",
        "\n",
        "   for train_index, val_index in kf.split(X):\n",
        "       X_train_fold, X_val_fold = X[train_index], X[val_index]\n",
        "       y_train_fold, y_val_fold = y[train_index], y[val_index]\n",
        "\n",
        "       tuner.search(X_train_fold, y_train_fold, epochs=10, validation_data=(X_val_fold, y_val_fold))\n",
        "\n",
        "   # Resumo dos melhores hiperparâmetros encontrados\n",
        "   best_hps = tuner.get_best_hyperparameters(num_trials=1)[0]\n",
        "   print(f\"\"\"\n",
        "         A pesquisa de hiperparâmetros foi concluída. O número ideal de dimensões de incorporação é {best_hps.get('embedding_dim')},\n",
        "         o número ideal de unidades LSTM é {best_hps.get('lstm_units')}, e\n",
        "         o número ideal de unidades densas é {best_hps.get('dense_units')},\n",
        "         e a taxa de abandono ideal é {best_hps.get('dropout')}.\n",
        "   \"\"\")\n",
        "\n",
        "   return best_hps"
      ]
    },
    {
      "cell_type": "code",
      "execution_count": 7,
      "id": "3e403ff7-dc9a-4066-b680-4367541fa2e0",
      "metadata": {
        "id": "3e403ff7-dc9a-4066-b680-4367541fa2e0"
      },
      "outputs": [],
      "source": [
        "def prepare_sequences(sequences):\n",
        "    \"\"\"\n",
        "    Prepara as sequências para o modelo, removendo zeros à direita, adicionando padding à esquerda, truncado sequências longas e removendo sequências repetidas.\n",
        "\n",
        "    Args:\n",
        "        sequences: Um array de sequências (listas ou arrays NumPy).\n",
        "\n",
        "    Returns:\n",
        "        Um array NumPy 2D com as sequências preparadas.\n",
        "    \"\"\"\n",
        "\n",
        "    # Remover zeros à direita de cada sequência\n",
        "    sequences_without_trailing_zeros = []\n",
        "    for seq in sequences:\n",
        "        last_nonzero_index = np.argmax(seq[::-1] != 0)\n",
        "        if last_nonzero_index == 0 and seq[-1] == 0:\n",
        "            sequences_without_trailing_zeros.append(np.array([0]))\n",
        "        else:\n",
        "            sequences_without_trailing_zeros.append(seq[:-last_nonzero_index or None])\n",
        "\n",
        "    # Remover sequências repetidas\n",
        "    unique_sequences = []\n",
        "    for seq in sequences_without_trailing_zeros:\n",
        "        if seq.tolist() not in unique_sequences:  # Verifica se a sequência já está na lista\n",
        "            unique_sequences.append(seq.tolist())  # Adiciona à lista se for única\n",
        "\n",
        "    # Encontrar o comprimento máximo das sequências sem zeros à direita\n",
        "    max_sequence_len = max(len(seq) for seq in unique_sequences)\n",
        "\n",
        "    # Adicionar padding à esquerda para garantir o mesmo comprimento\n",
        "    padded_sequences = pad_sequences(unique_sequences, maxlen=max_sequence_len, padding='pre', truncating='post')\n",
        "\n",
        "    return padded_sequences"
      ]
    },
    {
      "cell_type": "markdown",
      "id": "3ecc4499-bb52-4fdd-9df0-6557de92e770",
      "metadata": {
        "id": "3ecc4499-bb52-4fdd-9df0-6557de92e770"
      },
      "source": [
        "# Data"
      ]
    },
    {
      "cell_type": "code",
      "execution_count": 8,
      "id": "1f6c5358-e7df-435e-b40e-2fba7349ffb0",
      "metadata": {
        "id": "1f6c5358-e7df-435e-b40e-2fba7349ffb0"
      },
      "outputs": [],
      "source": [
        "df = pd.read_csv('https://github.com/allanspadini/curso-tensorflow-proxima-palavra/raw/main/dados/train.zip',\n",
        "                 names=['ClassIndex', 'Título', 'Descrição'], header=None)"
      ]
    },
    {
      "cell_type": "code",
      "execution_count": null,
      "id": "f1fd9f33-1fc6-4a47-8ec1-85c03242c0c4",
      "metadata": {
        "id": "f1fd9f33-1fc6-4a47-8ec1-85c03242c0c4",
        "outputId": "4f162538-533e-4cc2-f520-3fe33fdc5901"
      },
      "outputs": [
        {
          "data": {
            "text/html": [
              "<div>\n",
              "<style scoped>\n",
              "    .dataframe tbody tr th:only-of-type {\n",
              "        vertical-align: middle;\n",
              "    }\n",
              "\n",
              "    .dataframe tbody tr th {\n",
              "        vertical-align: top;\n",
              "    }\n",
              "\n",
              "    .dataframe thead th {\n",
              "        text-align: right;\n",
              "    }\n",
              "</style>\n",
              "<table border=\"1\" class=\"dataframe\">\n",
              "  <thead>\n",
              "    <tr style=\"text-align: right;\">\n",
              "      <th></th>\n",
              "      <th>ClassIndex</th>\n",
              "      <th>Título</th>\n",
              "      <th>Descrição</th>\n",
              "    </tr>\n",
              "  </thead>\n",
              "  <tbody>\n",
              "    <tr>\n",
              "      <th>0</th>\n",
              "      <td>3</td>\n",
              "      <td>Wall St. Bears Claw Back Into the Black (Reuters)</td>\n",
              "      <td>Reuters - Short-sellers, Wall Street's dwindli...</td>\n",
              "    </tr>\n",
              "    <tr>\n",
              "      <th>1</th>\n",
              "      <td>3</td>\n",
              "      <td>Carlyle Looks Toward Commercial Aerospace (Reu...</td>\n",
              "      <td>Reuters - Private investment firm Carlyle Grou...</td>\n",
              "    </tr>\n",
              "    <tr>\n",
              "      <th>2</th>\n",
              "      <td>3</td>\n",
              "      <td>Oil and Economy Cloud Stocks' Outlook (Reuters)</td>\n",
              "      <td>Reuters - Soaring crude prices plus worries\\ab...</td>\n",
              "    </tr>\n",
              "    <tr>\n",
              "      <th>3</th>\n",
              "      <td>3</td>\n",
              "      <td>Iraq Halts Oil Exports from Main Southern Pipe...</td>\n",
              "      <td>Reuters - Authorities have halted oil export\\f...</td>\n",
              "    </tr>\n",
              "    <tr>\n",
              "      <th>4</th>\n",
              "      <td>3</td>\n",
              "      <td>Oil prices soar to all-time record, posing new...</td>\n",
              "      <td>AFP - Tearaway world oil prices, toppling reco...</td>\n",
              "    </tr>\n",
              "  </tbody>\n",
              "</table>\n",
              "</div>"
            ],
            "text/plain": [
              "   ClassIndex                                             Título  \\\n",
              "0           3  Wall St. Bears Claw Back Into the Black (Reuters)   \n",
              "1           3  Carlyle Looks Toward Commercial Aerospace (Reu...   \n",
              "2           3    Oil and Economy Cloud Stocks' Outlook (Reuters)   \n",
              "3           3  Iraq Halts Oil Exports from Main Southern Pipe...   \n",
              "4           3  Oil prices soar to all-time record, posing new...   \n",
              "\n",
              "                                           Descrição  \n",
              "0  Reuters - Short-sellers, Wall Street's dwindli...  \n",
              "1  Reuters - Private investment firm Carlyle Grou...  \n",
              "2  Reuters - Soaring crude prices plus worries\\ab...  \n",
              "3  Reuters - Authorities have halted oil export\\f...  \n",
              "4  AFP - Tearaway world oil prices, toppling reco...  "
            ]
          },
          "execution_count": 3,
          "metadata": {},
          "output_type": "execute_result"
        }
      ],
      "source": [
        "df.head()"
      ]
    },
    {
      "cell_type": "markdown",
      "id": "5eeecb4a-bf8b-4f35-bfc0-d5f1700933f2",
      "metadata": {
        "id": "5eeecb4a-bf8b-4f35-bfc0-d5f1700933f2"
      },
      "source": [
        "# Preprocessing"
      ]
    },
    {
      "cell_type": "markdown",
      "id": "3c35912f-a2c4-409c-ac74-343a483e0e94",
      "metadata": {
        "id": "3c35912f-a2c4-409c-ac74-343a483e0e94"
      },
      "source": [
        "## Features"
      ]
    },
    {
      "cell_type": "code",
      "execution_count": 9,
      "id": "18135ea8-66ee-4d72-8849-6eb36caa9cc9",
      "metadata": {
        "id": "18135ea8-66ee-4d72-8849-6eb36caa9cc9"
      },
      "outputs": [],
      "source": [
        "df['text'] = df['Título'] + df['Descrição']"
      ]
    },
    {
      "cell_type": "code",
      "execution_count": null,
      "id": "f6bcd0a9-0147-4803-9060-9a64dc4283e1",
      "metadata": {
        "id": "f6bcd0a9-0147-4803-9060-9a64dc4283e1",
        "outputId": "51db5075-baf9-46cf-c4b1-1b76587cc3a8"
      },
      "outputs": [
        {
          "data": {
            "text/html": [
              "<div>\n",
              "<style scoped>\n",
              "    .dataframe tbody tr th:only-of-type {\n",
              "        vertical-align: middle;\n",
              "    }\n",
              "\n",
              "    .dataframe tbody tr th {\n",
              "        vertical-align: top;\n",
              "    }\n",
              "\n",
              "    .dataframe thead th {\n",
              "        text-align: right;\n",
              "    }\n",
              "</style>\n",
              "<table border=\"1\" class=\"dataframe\">\n",
              "  <thead>\n",
              "    <tr style=\"text-align: right;\">\n",
              "      <th></th>\n",
              "      <th>ClassIndex</th>\n",
              "      <th>Título</th>\n",
              "      <th>Descrição</th>\n",
              "      <th>text</th>\n",
              "    </tr>\n",
              "  </thead>\n",
              "  <tbody>\n",
              "    <tr>\n",
              "      <th>0</th>\n",
              "      <td>3</td>\n",
              "      <td>Wall St. Bears Claw Back Into the Black (Reuters)</td>\n",
              "      <td>Reuters - Short-sellers, Wall Street's dwindli...</td>\n",
              "      <td>Wall St. Bears Claw Back Into the Black (Reute...</td>\n",
              "    </tr>\n",
              "    <tr>\n",
              "      <th>1</th>\n",
              "      <td>3</td>\n",
              "      <td>Carlyle Looks Toward Commercial Aerospace (Reu...</td>\n",
              "      <td>Reuters - Private investment firm Carlyle Grou...</td>\n",
              "      <td>Carlyle Looks Toward Commercial Aerospace (Reu...</td>\n",
              "    </tr>\n",
              "    <tr>\n",
              "      <th>2</th>\n",
              "      <td>3</td>\n",
              "      <td>Oil and Economy Cloud Stocks' Outlook (Reuters)</td>\n",
              "      <td>Reuters - Soaring crude prices plus worries\\ab...</td>\n",
              "      <td>Oil and Economy Cloud Stocks' Outlook (Reuters...</td>\n",
              "    </tr>\n",
              "    <tr>\n",
              "      <th>3</th>\n",
              "      <td>3</td>\n",
              "      <td>Iraq Halts Oil Exports from Main Southern Pipe...</td>\n",
              "      <td>Reuters - Authorities have halted oil export\\f...</td>\n",
              "      <td>Iraq Halts Oil Exports from Main Southern Pipe...</td>\n",
              "    </tr>\n",
              "    <tr>\n",
              "      <th>4</th>\n",
              "      <td>3</td>\n",
              "      <td>Oil prices soar to all-time record, posing new...</td>\n",
              "      <td>AFP - Tearaway world oil prices, toppling reco...</td>\n",
              "      <td>Oil prices soar to all-time record, posing new...</td>\n",
              "    </tr>\n",
              "  </tbody>\n",
              "</table>\n",
              "</div>"
            ],
            "text/plain": [
              "   ClassIndex                                             Título  \\\n",
              "0           3  Wall St. Bears Claw Back Into the Black (Reuters)   \n",
              "1           3  Carlyle Looks Toward Commercial Aerospace (Reu...   \n",
              "2           3    Oil and Economy Cloud Stocks' Outlook (Reuters)   \n",
              "3           3  Iraq Halts Oil Exports from Main Southern Pipe...   \n",
              "4           3  Oil prices soar to all-time record, posing new...   \n",
              "\n",
              "                                           Descrição  \\\n",
              "0  Reuters - Short-sellers, Wall Street's dwindli...   \n",
              "1  Reuters - Private investment firm Carlyle Grou...   \n",
              "2  Reuters - Soaring crude prices plus worries\\ab...   \n",
              "3  Reuters - Authorities have halted oil export\\f...   \n",
              "4  AFP - Tearaway world oil prices, toppling reco...   \n",
              "\n",
              "                                                text  \n",
              "0  Wall St. Bears Claw Back Into the Black (Reute...  \n",
              "1  Carlyle Looks Toward Commercial Aerospace (Reu...  \n",
              "2  Oil and Economy Cloud Stocks' Outlook (Reuters...  \n",
              "3  Iraq Halts Oil Exports from Main Southern Pipe...  \n",
              "4  Oil prices soar to all-time record, posing new...  "
            ]
          },
          "execution_count": 6,
          "metadata": {},
          "output_type": "execute_result"
        }
      ],
      "source": [
        "df.head()"
      ]
    },
    {
      "cell_type": "code",
      "execution_count": 10,
      "id": "c6a59281-ef38-45e6-be10-c5135ecc4735",
      "metadata": {
        "id": "c6a59281-ef38-45e6-be10-c5135ecc4735"
      },
      "outputs": [],
      "source": [
        "df['ClassIndex'] -= 1"
      ]
    },
    {
      "cell_type": "code",
      "execution_count": null,
      "id": "65d677d8-0ac9-4e6d-93cd-3131879e10e1",
      "metadata": {
        "id": "65d677d8-0ac9-4e6d-93cd-3131879e10e1",
        "outputId": "9584406d-e364-4743-df12-f23895b86f9f"
      },
      "outputs": [
        {
          "data": {
            "text/plain": [
              "array([2, 3, 1, 0])"
            ]
          },
          "execution_count": 9,
          "metadata": {},
          "output_type": "execute_result"
        }
      ],
      "source": [
        "df['ClassIndex'].unique()"
      ]
    },
    {
      "cell_type": "markdown",
      "id": "199e9c29-8c08-4150-ad9c-474dcc330372",
      "metadata": {
        "id": "199e9c29-8c08-4150-ad9c-474dcc330372"
      },
      "source": [
        "## Split"
      ]
    },
    {
      "cell_type": "code",
      "execution_count": null,
      "id": "cf0f49b1-f96b-474f-b57a-b92b102d87e0",
      "metadata": {
        "id": "cf0f49b1-f96b-474f-b57a-b92b102d87e0"
      },
      "outputs": [],
      "source": [
        "X_train, X_test, y_train, y_test = train_test_split(df['text'].values, df['ClassIndex'].values, random_state=7, test_size=0.2)"
      ]
    },
    {
      "cell_type": "markdown",
      "id": "6e3e9617-f72e-42c9-a67e-adea74d2b3db",
      "metadata": {
        "id": "6e3e9617-f72e-42c9-a67e-adea74d2b3db"
      },
      "source": [
        "## Encoder"
      ]
    },
    {
      "cell_type": "code",
      "execution_count": null,
      "id": "03917437-6ba8-4ef2-8eaa-eec747ac9bea",
      "metadata": {
        "id": "03917437-6ba8-4ef2-8eaa-eec747ac9bea"
      },
      "outputs": [],
      "source": [
        "VOCAB_SIZE = 1_000\n",
        "\n",
        "encoder = tf.keras.layers.TextVectorization(max_tokens=VOCAB_SIZE)"
      ]
    },
    {
      "cell_type": "code",
      "execution_count": null,
      "id": "733ae2a7-f9e8-4a29-8b76-be6d679edc78",
      "metadata": {
        "id": "733ae2a7-f9e8-4a29-8b76-be6d679edc78"
      },
      "outputs": [],
      "source": [
        "encoder.adapt(X_train)"
      ]
    },
    {
      "cell_type": "code",
      "execution_count": null,
      "id": "730240d2-1f61-4f13-83bc-d6e05b5a0752",
      "metadata": {
        "id": "730240d2-1f61-4f13-83bc-d6e05b5a0752",
        "outputId": "7df33255-43a5-4f82-b3e1-d8e655def902"
      },
      "outputs": [
        {
          "data": {
            "text/plain": [
              "['', '[UNK]', np.str_('the'), np.str_('to'), np.str_('a')]"
            ]
          },
          "execution_count": 17,
          "metadata": {},
          "output_type": "execute_result"
        }
      ],
      "source": [
        "encoder.get_vocabulary()[:5]"
      ]
    },
    {
      "cell_type": "code",
      "execution_count": null,
      "id": "3bf910ef-fb0f-4f99-bb1e-c55cd1e86159",
      "metadata": {
        "id": "3bf910ef-fb0f-4f99-bb1e-c55cd1e86159",
        "outputId": "5b928a68-bc9b-4632-d704-d16378368660"
      },
      "outputs": [
        {
          "data": {
            "text/plain": [
              "<tf.Tensor: shape=(4,), dtype=int64, numpy=array([41, 16, 24,  1])>"
            ]
          },
          "execution_count": 19,
          "metadata": {},
          "output_type": "execute_result"
        }
      ],
      "source": [
        "encoder('This is an example')"
      ]
    },
    {
      "cell_type": "markdown",
      "id": "91a2c1a3-d088-4eef-adf1-06529e2e95ac",
      "metadata": {
        "id": "91a2c1a3-d088-4eef-adf1-06529e2e95ac"
      },
      "source": [
        "# Model"
      ]
    },
    {
      "cell_type": "code",
      "execution_count": null,
      "id": "fd14b265-2ce0-44b0-ad6b-ac172fc8bfc8",
      "metadata": {
        "id": "fd14b265-2ce0-44b0-ad6b-ac172fc8bfc8"
      },
      "outputs": [],
      "source": [
        "model = tf.keras.Sequential([\n",
        "    encoder,\n",
        "    tf.keras.layers.Embedding(\n",
        "        input_dim=len(encoder.get_vocabulary()),\n",
        "        output_dim=16,\n",
        "        mask_zero=True\n",
        "    ),\n",
        "    tf.keras.layers.GlobalAveragePooling1D(), # Dimensionality reduction\n",
        "    tf.keras.layers.Dense(16, activation='relu'), # Hidden layer\n",
        "    tf.keras.layers.Dense(4, activation='softmax') # Output\n",
        "])"
      ]
    },
    {
      "cell_type": "code",
      "execution_count": null,
      "id": "ced50bad-fff9-4d2c-baae-ddd2b5aeab4d",
      "metadata": {
        "id": "ced50bad-fff9-4d2c-baae-ddd2b5aeab4d",
        "outputId": "54755a57-5a02-4b7b-84d5-0a93c6349d82"
      },
      "outputs": [
        {
          "data": {
            "text/html": [
              "<pre style=\"white-space:pre;overflow-x:auto;line-height:normal;font-family:Menlo,'DejaVu Sans Mono',consolas,'Courier New',monospace\"><span style=\"font-weight: bold\">Model: \"sequential\"</span>\n",
              "</pre>\n"
            ],
            "text/plain": [
              "\u001b[1mModel: \"sequential\"\u001b[0m\n"
            ]
          },
          "metadata": {},
          "output_type": "display_data"
        },
        {
          "data": {
            "text/html": [
              "<pre style=\"white-space:pre;overflow-x:auto;line-height:normal;font-family:Menlo,'DejaVu Sans Mono',consolas,'Courier New',monospace\">┏━━━━━━━━━━━━━━━━━━━━━━━━━━━━━━━━━┳━━━━━━━━━━━━━━━━━━━━━━━━┳━━━━━━━━━━━━━━━┓\n",
              "┃<span style=\"font-weight: bold\"> Layer (type)                    </span>┃<span style=\"font-weight: bold\"> Output Shape           </span>┃<span style=\"font-weight: bold\">       Param # </span>┃\n",
              "┡━━━━━━━━━━━━━━━━━━━━━━━━━━━━━━━━━╇━━━━━━━━━━━━━━━━━━━━━━━━╇━━━━━━━━━━━━━━━┩\n",
              "│ text_vectorization              │ (<span style=\"color: #00af00; text-decoration-color: #00af00\">1</span>, <span style=\"color: #00d7ff; text-decoration-color: #00d7ff\">None</span>)              │             <span style=\"color: #00af00; text-decoration-color: #00af00\">0</span> │\n",
              "│ (<span style=\"color: #0087ff; text-decoration-color: #0087ff\">TextVectorization</span>)             │                        │               │\n",
              "├─────────────────────────────────┼────────────────────────┼───────────────┤\n",
              "│ embedding_1 (<span style=\"color: #0087ff; text-decoration-color: #0087ff\">Embedding</span>)         │ (<span style=\"color: #00af00; text-decoration-color: #00af00\">1</span>, <span style=\"color: #00d7ff; text-decoration-color: #00d7ff\">None</span>, <span style=\"color: #00af00; text-decoration-color: #00af00\">16</span>)          │        <span style=\"color: #00af00; text-decoration-color: #00af00\">16,000</span> │\n",
              "├─────────────────────────────────┼────────────────────────┼───────────────┤\n",
              "│ global_average_pooling1d_1      │ (<span style=\"color: #00af00; text-decoration-color: #00af00\">1</span>, <span style=\"color: #00af00; text-decoration-color: #00af00\">16</span>)                │             <span style=\"color: #00af00; text-decoration-color: #00af00\">0</span> │\n",
              "│ (<span style=\"color: #0087ff; text-decoration-color: #0087ff\">GlobalAveragePooling1D</span>)        │                        │               │\n",
              "├─────────────────────────────────┼────────────────────────┼───────────────┤\n",
              "│ dense_2 (<span style=\"color: #0087ff; text-decoration-color: #0087ff\">Dense</span>)                 │ (<span style=\"color: #00af00; text-decoration-color: #00af00\">1</span>, <span style=\"color: #00af00; text-decoration-color: #00af00\">16</span>)                │           <span style=\"color: #00af00; text-decoration-color: #00af00\">272</span> │\n",
              "├─────────────────────────────────┼────────────────────────┼───────────────┤\n",
              "│ dense_3 (<span style=\"color: #0087ff; text-decoration-color: #0087ff\">Dense</span>)                 │ (<span style=\"color: #00af00; text-decoration-color: #00af00\">1</span>, <span style=\"color: #00af00; text-decoration-color: #00af00\">4</span>)                 │            <span style=\"color: #00af00; text-decoration-color: #00af00\">68</span> │\n",
              "└─────────────────────────────────┴────────────────────────┴───────────────┘\n",
              "</pre>\n"
            ],
            "text/plain": [
              "┏━━━━━━━━━━━━━━━━━━━━━━━━━━━━━━━━━┳━━━━━━━━━━━━━━━━━━━━━━━━┳━━━━━━━━━━━━━━━┓\n",
              "┃\u001b[1m \u001b[0m\u001b[1mLayer (type)                   \u001b[0m\u001b[1m \u001b[0m┃\u001b[1m \u001b[0m\u001b[1mOutput Shape          \u001b[0m\u001b[1m \u001b[0m┃\u001b[1m \u001b[0m\u001b[1m      Param #\u001b[0m\u001b[1m \u001b[0m┃\n",
              "┡━━━━━━━━━━━━━━━━━━━━━━━━━━━━━━━━━╇━━━━━━━━━━━━━━━━━━━━━━━━╇━━━━━━━━━━━━━━━┩\n",
              "│ text_vectorization              │ (\u001b[38;5;34m1\u001b[0m, \u001b[38;5;45mNone\u001b[0m)              │             \u001b[38;5;34m0\u001b[0m │\n",
              "│ (\u001b[38;5;33mTextVectorization\u001b[0m)             │                        │               │\n",
              "├─────────────────────────────────┼────────────────────────┼───────────────┤\n",
              "│ embedding_1 (\u001b[38;5;33mEmbedding\u001b[0m)         │ (\u001b[38;5;34m1\u001b[0m, \u001b[38;5;45mNone\u001b[0m, \u001b[38;5;34m16\u001b[0m)          │        \u001b[38;5;34m16,000\u001b[0m │\n",
              "├─────────────────────────────────┼────────────────────────┼───────────────┤\n",
              "│ global_average_pooling1d_1      │ (\u001b[38;5;34m1\u001b[0m, \u001b[38;5;34m16\u001b[0m)                │             \u001b[38;5;34m0\u001b[0m │\n",
              "│ (\u001b[38;5;33mGlobalAveragePooling1D\u001b[0m)        │                        │               │\n",
              "├─────────────────────────────────┼────────────────────────┼───────────────┤\n",
              "│ dense_2 (\u001b[38;5;33mDense\u001b[0m)                 │ (\u001b[38;5;34m1\u001b[0m, \u001b[38;5;34m16\u001b[0m)                │           \u001b[38;5;34m272\u001b[0m │\n",
              "├─────────────────────────────────┼────────────────────────┼───────────────┤\n",
              "│ dense_3 (\u001b[38;5;33mDense\u001b[0m)                 │ (\u001b[38;5;34m1\u001b[0m, \u001b[38;5;34m4\u001b[0m)                 │            \u001b[38;5;34m68\u001b[0m │\n",
              "└─────────────────────────────────┴────────────────────────┴───────────────┘\n"
            ]
          },
          "metadata": {},
          "output_type": "display_data"
        },
        {
          "data": {
            "text/html": [
              "<pre style=\"white-space:pre;overflow-x:auto;line-height:normal;font-family:Menlo,'DejaVu Sans Mono',consolas,'Courier New',monospace\"><span style=\"font-weight: bold\"> Total params: </span><span style=\"color: #00af00; text-decoration-color: #00af00\">16,340</span> (63.83 KB)\n",
              "</pre>\n"
            ],
            "text/plain": [
              "\u001b[1m Total params: \u001b[0m\u001b[38;5;34m16,340\u001b[0m (63.83 KB)\n"
            ]
          },
          "metadata": {},
          "output_type": "display_data"
        },
        {
          "data": {
            "text/html": [
              "<pre style=\"white-space:pre;overflow-x:auto;line-height:normal;font-family:Menlo,'DejaVu Sans Mono',consolas,'Courier New',monospace\"><span style=\"font-weight: bold\"> Trainable params: </span><span style=\"color: #00af00; text-decoration-color: #00af00\">16,340</span> (63.83 KB)\n",
              "</pre>\n"
            ],
            "text/plain": [
              "\u001b[1m Trainable params: \u001b[0m\u001b[38;5;34m16,340\u001b[0m (63.83 KB)\n"
            ]
          },
          "metadata": {},
          "output_type": "display_data"
        },
        {
          "data": {
            "text/html": [
              "<pre style=\"white-space:pre;overflow-x:auto;line-height:normal;font-family:Menlo,'DejaVu Sans Mono',consolas,'Courier New',monospace\"><span style=\"font-weight: bold\"> Non-trainable params: </span><span style=\"color: #00af00; text-decoration-color: #00af00\">0</span> (0.00 B)\n",
              "</pre>\n"
            ],
            "text/plain": [
              "\u001b[1m Non-trainable params: \u001b[0m\u001b[38;5;34m0\u001b[0m (0.00 B)\n"
            ]
          },
          "metadata": {},
          "output_type": "display_data"
        }
      ],
      "source": [
        "model.summary()"
      ]
    },
    {
      "cell_type": "code",
      "execution_count": null,
      "id": "eb47b487-4180-43c9-aa3a-ae056fd7db66",
      "metadata": {
        "id": "eb47b487-4180-43c9-aa3a-ae056fd7db66"
      },
      "outputs": [],
      "source": [
        "model.compile(\n",
        "    optimizer=tf.keras.optimizers.Adam(1e-4),\n",
        "    loss='sparse_categorical_crossentropy',\n",
        "    metrics=['Accuracy']\n",
        ")"
      ]
    },
    {
      "cell_type": "code",
      "execution_count": null,
      "id": "99a6b726-9bf2-4338-b78c-ba5acf226569",
      "metadata": {
        "id": "99a6b726-9bf2-4338-b78c-ba5acf226569"
      },
      "outputs": [],
      "source": [
        "epochs = 10"
      ]
    },
    {
      "cell_type": "code",
      "execution_count": null,
      "id": "dcbcea14-f0a9-4ed4-9967-3acffa9901af",
      "metadata": {
        "id": "dcbcea14-f0a9-4ed4-9967-3acffa9901af",
        "outputId": "0ea40562-db9e-485b-ef79-7ff31f4592b8"
      },
      "outputs": [
        {
          "name": "stdout",
          "output_type": "stream",
          "text": [
            "Epoch 1/10\n",
            "\u001b[1m3000/3000\u001b[0m \u001b[32m━━━━━━━━━━━━━━━━━━━━\u001b[0m\u001b[37m\u001b[0m \u001b[1m15s\u001b[0m 5ms/step - Accuracy: 0.4949 - loss: 1.3265 - val_Accuracy: 0.7563 - val_loss: 0.9604\n",
            "Epoch 2/10\n",
            "\u001b[1m3000/3000\u001b[0m \u001b[32m━━━━━━━━━━━━━━━━━━━━\u001b[0m\u001b[37m\u001b[0m \u001b[1m14s\u001b[0m 5ms/step - Accuracy: 0.7752 - loss: 0.8440 - val_Accuracy: 0.8061 - val_loss: 0.6274\n",
            "Epoch 3/10\n",
            "\u001b[1m3000/3000\u001b[0m \u001b[32m━━━━━━━━━━━━━━━━━━━━\u001b[0m\u001b[37m\u001b[0m \u001b[1m14s\u001b[0m 5ms/step - Accuracy: 0.8136 - loss: 0.5900 - val_Accuracy: 0.8240 - val_loss: 0.5290\n",
            "Epoch 4/10\n",
            "\u001b[1m3000/3000\u001b[0m \u001b[32m━━━━━━━━━━━━━━━━━━━━\u001b[0m\u001b[37m\u001b[0m \u001b[1m14s\u001b[0m 5ms/step - Accuracy: 0.8261 - loss: 0.5177 - val_Accuracy: 0.8320 - val_loss: 0.4905\n",
            "Epoch 5/10\n",
            "\u001b[1m3000/3000\u001b[0m \u001b[32m━━━━━━━━━━━━━━━━━━━━\u001b[0m\u001b[37m\u001b[0m \u001b[1m14s\u001b[0m 5ms/step - Accuracy: 0.8395 - loss: 0.4773 - val_Accuracy: 0.8382 - val_loss: 0.4700\n",
            "Epoch 6/10\n",
            "\u001b[1m3000/3000\u001b[0m \u001b[32m━━━━━━━━━━━━━━━━━━━━\u001b[0m\u001b[37m\u001b[0m \u001b[1m14s\u001b[0m 5ms/step - Accuracy: 0.8446 - loss: 0.4600 - val_Accuracy: 0.8422 - val_loss: 0.4577\n",
            "Epoch 7/10\n",
            "\u001b[1m3000/3000\u001b[0m \u001b[32m━━━━━━━━━━━━━━━━━━━━\u001b[0m\u001b[37m\u001b[0m \u001b[1m14s\u001b[0m 5ms/step - Accuracy: 0.8473 - loss: 0.4492 - val_Accuracy: 0.8461 - val_loss: 0.4492\n",
            "Epoch 8/10\n",
            "\u001b[1m3000/3000\u001b[0m \u001b[32m━━━━━━━━━━━━━━━━━━━━\u001b[0m\u001b[37m\u001b[0m \u001b[1m14s\u001b[0m 5ms/step - Accuracy: 0.8504 - loss: 0.4429 - val_Accuracy: 0.8467 - val_loss: 0.4411\n",
            "Epoch 9/10\n",
            "\u001b[1m3000/3000\u001b[0m \u001b[32m━━━━━━━━━━━━━━━━━━━━\u001b[0m\u001b[37m\u001b[0m \u001b[1m14s\u001b[0m 5ms/step - Accuracy: 0.8513 - loss: 0.4362 - val_Accuracy: 0.8500 - val_loss: 0.4365\n",
            "Epoch 10/10\n",
            "\u001b[1m3000/3000\u001b[0m \u001b[32m━━━━━━━━━━━━━━━━━━━━\u001b[0m\u001b[37m\u001b[0m \u001b[1m14s\u001b[0m 5ms/step - Accuracy: 0.8525 - loss: 0.4300 - val_Accuracy: 0.8513 - val_loss: 0.4307\n"
          ]
        }
      ],
      "source": [
        "history = model.fit(x=X_train, y=y_train, epochs=10, validation_data=(X_test, y_test))"
      ]
    },
    {
      "cell_type": "code",
      "execution_count": null,
      "id": "210b8789-48e3-4146-a342-efafcf2561a0",
      "metadata": {
        "id": "210b8789-48e3-4146-a342-efafcf2561a0",
        "outputId": "ba1abfc1-83ee-4e41-89b7-0ca8a3ecb98d"
      },
      "outputs": [
        {
          "name": "stdout",
          "output_type": "stream",
          "text": [
            "\u001b[1m1/1\u001b[0m \u001b[32m━━━━━━━━━━━━━━━━━━━━\u001b[0m\u001b[37m\u001b[0m \u001b[1m0s\u001b[0m 35ms/step\n"
          ]
        },
        {
          "data": {
            "text/plain": [
              "array([[2.41511315e-03, 9.97438312e-01, 2.98898049e-05, 1.16686875e-04]],\n",
              "      dtype=float32)"
            ]
          },
          "execution_count": 35,
          "metadata": {},
          "output_type": "execute_result"
        }
      ],
      "source": [
        "model.predict(X_test[0:1])"
      ]
    },
    {
      "cell_type": "code",
      "execution_count": null,
      "id": "4a907e4d-28a6-4e83-8fd0-2e39d25f417b",
      "metadata": {
        "id": "4a907e4d-28a6-4e83-8fd0-2e39d25f417b",
        "outputId": "2eb6f2e2-afd7-44f2-ac45-1fbe913de15a"
      },
      "outputs": [
        {
          "name": "stdout",
          "output_type": "stream",
          "text": [
            "\u001b[1m1/1\u001b[0m \u001b[32m━━━━━━━━━━━━━━━━━━━━\u001b[0m\u001b[37m\u001b[0m \u001b[1m0s\u001b[0m 33ms/step\n"
          ]
        },
        {
          "data": {
            "text/plain": [
              "array([1])"
            ]
          },
          "execution_count": 36,
          "metadata": {},
          "output_type": "execute_result"
        }
      ],
      "source": [
        "model.predict(X_test[0:1]).argmax(axis=1)"
      ]
    },
    {
      "cell_type": "code",
      "execution_count": null,
      "id": "e3d74c2f-498e-47f5-805a-26ead4abb16d",
      "metadata": {
        "id": "e3d74c2f-498e-47f5-805a-26ead4abb16d",
        "outputId": "d185f435-4265-49a8-8eb8-86657d7202bd"
      },
      "outputs": [
        {
          "data": {
            "text/plain": [
              "np.int64(1)"
            ]
          },
          "execution_count": 37,
          "metadata": {},
          "output_type": "execute_result"
        }
      ],
      "source": [
        "y_test[0]"
      ]
    },
    {
      "cell_type": "code",
      "execution_count": null,
      "id": "bf6db509-11c1-4256-9528-723e6a5c32c5",
      "metadata": {
        "id": "bf6db509-11c1-4256-9528-723e6a5c32c5",
        "outputId": "19ea029e-94cc-411b-da6a-d3d65b4d1a88"
      },
      "outputs": [
        {
          "data": {
            "image/png": "[encoded data removed]",
            "text/plain": [
              "<Figure size 1200x600 with 2 Axes>"
            ]
          },
          "metadata": {},
          "output_type": "display_data"
        }
      ],
      "source": [
        "plot_results(history, epochs)"
      ]
    },
    {
      "cell_type": "markdown",
      "id": "bcb334df-e4a0-4d45-b7f5-91d2e4b7a969",
      "metadata": {
        "id": "bcb334df-e4a0-4d45-b7f5-91d2e4b7a969"
      },
      "source": [
        "## CONV Layer"
      ]
    },
    {
      "cell_type": "code",
      "execution_count": null,
      "id": "56886b50-974b-493e-a2d2-aa7446cc256b",
      "metadata": {
        "id": "56886b50-974b-493e-a2d2-aa7446cc256b"
      },
      "outputs": [],
      "source": [
        "model = tf.keras.Sequential([\n",
        "    encoder,\n",
        "    tf.keras.layers.Embedding(\n",
        "        input_dim=len(encoder.get_vocabulary()),\n",
        "        output_dim=16,\n",
        "        mask_zero=False\n",
        "    ),\n",
        "    tf.keras.layers.Conv1D(64, kernel_size=3, activation='relu'),\n",
        "    tf.keras.layers.MaxPooling1D(),\n",
        "    tf.keras.layers.Conv1D(128, kernel_size=4, activation='relu'),\n",
        "    tf.keras.layers.GlobalAveragePooling1D(), # Dimensionality reduction\n",
        "    tf.keras.layers.Dense(16, activation='relu'), # Hidden layer\n",
        "    tf.keras.layers.Dense(4, activation='softmax') # Output\n",
        "])"
      ]
    },
    {
      "cell_type": "code",
      "execution_count": null,
      "id": "b322dfe2-b5de-4390-8f36-fe96fecfe967",
      "metadata": {
        "id": "b322dfe2-b5de-4390-8f36-fe96fecfe967"
      },
      "outputs": [],
      "source": [
        "model.compile(\n",
        "    optimizer=tf.keras.optimizers.Adam(1e-4),\n",
        "    loss='sparse_categorical_crossentropy',\n",
        "    metrics=['Accuracy']\n",
        ")"
      ]
    },
    {
      "cell_type": "code",
      "execution_count": null,
      "id": "83dd62b2-b1d5-4c3e-b24e-3d472fd5178c",
      "metadata": {
        "id": "83dd62b2-b1d5-4c3e-b24e-3d472fd5178c",
        "outputId": "1e94e9e1-909b-4875-8b88-47bcdb828a84"
      },
      "outputs": [
        {
          "name": "stdout",
          "output_type": "stream",
          "text": [
            "Epoch 1/10\n",
            "\u001b[1m3000/3000\u001b[0m \u001b[32m━━━━━━━━━━━━━━━━━━━━\u001b[0m\u001b[37m\u001b[0m \u001b[1m25s\u001b[0m 8ms/step - Accuracy: 0.5115 - loss: 1.1055 - val_Accuracy: 0.8138 - val_loss: 0.5268\n",
            "Epoch 2/10\n",
            "\u001b[1m3000/3000\u001b[0m \u001b[32m━━━━━━━━━━━━━━━━━━━━\u001b[0m\u001b[37m\u001b[0m \u001b[1m23s\u001b[0m 8ms/step - Accuracy: 0.8239 - loss: 0.5059 - val_Accuracy: 0.8304 - val_loss: 0.4875\n",
            "Epoch 3/10\n",
            "\u001b[1m3000/3000\u001b[0m \u001b[32m━━━━━━━━━━━━━━━━━━━━\u001b[0m\u001b[37m\u001b[0m \u001b[1m23s\u001b[0m 8ms/step - Accuracy: 0.8375 - loss: 0.4674 - val_Accuracy: 0.8354 - val_loss: 0.4743\n",
            "Epoch 4/10\n",
            "\u001b[1m3000/3000\u001b[0m \u001b[32m━━━━━━━━━━━━━━━━━━━━\u001b[0m\u001b[37m\u001b[0m \u001b[1m13s\u001b[0m 4ms/step - Accuracy: 0.8416 - loss: 0.4522 - val_Accuracy: 0.8418 - val_loss: 0.4572\n",
            "Epoch 5/10\n",
            "\u001b[1m3000/3000\u001b[0m \u001b[32m━━━━━━━━━━━━━━━━━━━━\u001b[0m\u001b[37m\u001b[0m \u001b[1m13s\u001b[0m 4ms/step - Accuracy: 0.8460 - loss: 0.4411 - val_Accuracy: 0.8455 - val_loss: 0.4440\n",
            "Epoch 6/10\n",
            "\u001b[1m3000/3000\u001b[0m \u001b[32m━━━━━━━━━━━━━━━━━━━━\u001b[0m\u001b[37m\u001b[0m \u001b[1m13s\u001b[0m 4ms/step - Accuracy: 0.8491 - loss: 0.4301 - val_Accuracy: 0.8479 - val_loss: 0.4340\n",
            "Epoch 7/10\n",
            "\u001b[1m3000/3000\u001b[0m \u001b[32m━━━━━━━━━━━━━━━━━━━━\u001b[0m\u001b[37m\u001b[0m \u001b[1m13s\u001b[0m 4ms/step - Accuracy: 0.8542 - loss: 0.4152 - val_Accuracy: 0.8539 - val_loss: 0.4190\n",
            "Epoch 8/10\n",
            "\u001b[1m3000/3000\u001b[0m \u001b[32m━━━━━━━━━━━━━━━━━━━━\u001b[0m\u001b[37m\u001b[0m \u001b[1m13s\u001b[0m 4ms/step - Accuracy: 0.8574 - loss: 0.4093 - val_Accuracy: 0.8556 - val_loss: 0.4116\n",
            "Epoch 9/10\n",
            "\u001b[1m3000/3000\u001b[0m \u001b[32m━━━━━━━━━━━━━━━━━━━━\u001b[0m\u001b[37m\u001b[0m \u001b[1m13s\u001b[0m 4ms/step - Accuracy: 0.8578 - loss: 0.3993 - val_Accuracy: 0.8547 - val_loss: 0.4110\n",
            "Epoch 10/10\n",
            "\u001b[1m3000/3000\u001b[0m \u001b[32m━━━━━━━━━━━━━━━━━━━━\u001b[0m\u001b[37m\u001b[0m \u001b[1m13s\u001b[0m 4ms/step - Accuracy: 0.8624 - loss: 0.3921 - val_Accuracy: 0.8555 - val_loss: 0.4075\n"
          ]
        }
      ],
      "source": [
        "history = model.fit(x=X_train, y=y_train, epochs=10, validation_data=(X_test, y_test))"
      ]
    },
    {
      "cell_type": "code",
      "execution_count": null,
      "id": "65298cce-286b-482a-9d3b-8e66de5bcc68",
      "metadata": {
        "id": "65298cce-286b-482a-9d3b-8e66de5bcc68",
        "outputId": "617f3dc6-0270-4ae9-8368-fcebea91ef21"
      },
      "outputs": [
        {
          "data": {
            "image/png": "[encoded data removed]",
            "text/plain": [
              "<Figure size 1200x600 with 2 Axes>"
            ]
          },
          "metadata": {},
          "output_type": "display_data"
        }
      ],
      "source": [
        "plot_results(history, epochs)"
      ]
    },
    {
      "cell_type": "markdown",
      "id": "c4d33b75-e940-46e9-91fc-049f850eb5a8",
      "metadata": {
        "id": "c4d33b75-e940-46e9-91fc-049f850eb5a8"
      },
      "source": [
        "## LSTM"
      ]
    },
    {
      "cell_type": "code",
      "execution_count": null,
      "id": "ccbc7c93-3445-4542-a066-a172ede629e4",
      "metadata": {
        "id": "ccbc7c93-3445-4542-a066-a172ede629e4"
      },
      "outputs": [],
      "source": [
        "model = tf.keras.Sequential([\n",
        "    encoder,\n",
        "    tf.keras.layers.Embedding(\n",
        "        input_dim=len(encoder.get_vocabulary()),\n",
        "        output_dim=64,\n",
        "        mask_zero=True\n",
        "    ),\n",
        "    tf.keras.layers.Bidirectional(tf.keras.layers.LSTM(64, return_sequences=True)),\n",
        "    tf.keras.layers.Bidirectional(tf.keras.layers.LSTM(32)),\n",
        "    tf.keras.layers.Dense(16, activation='relu'), # Hidden layer\n",
        "    tf.keras.layers.Dropout(0.5),\n",
        "    tf.keras.layers.Dense(4, activation='softmax') # Output\n",
        "])"
      ]
    },
    {
      "cell_type": "code",
      "execution_count": null,
      "id": "46452159-5d5f-4bd4-8429-a10bf78ed149",
      "metadata": {
        "id": "46452159-5d5f-4bd4-8429-a10bf78ed149"
      },
      "outputs": [],
      "source": [
        "model.compile(\n",
        "    optimizer=tf.keras.optimizers.Adam(1e-4),\n",
        "    loss='sparse_categorical_crossentropy',\n",
        "    metrics=['Accuracy']\n",
        ")"
      ]
    },
    {
      "cell_type": "code",
      "execution_count": null,
      "id": "d2826b9f-01fd-4a40-b930-156850fb5272",
      "metadata": {
        "id": "d2826b9f-01fd-4a40-b930-156850fb5272"
      },
      "outputs": [],
      "source": [
        "epochs = 20\n",
        "\n",
        "history = model.fit(x=X_train, y=y_train, epochs=epochs, validation_data=(X_test, y_test))"
      ]
    },
    {
      "cell_type": "code",
      "execution_count": null,
      "id": "e26995d6-5a46-415b-bdcb-127a77416b10",
      "metadata": {
        "id": "e26995d6-5a46-415b-bdcb-127a77416b10"
      },
      "outputs": [],
      "source": [
        "plot_results(history, epochs)"
      ]
    },
    {
      "cell_type": "markdown",
      "id": "f9faf99f-d137-41aa-b1e2-45a1609b09f3",
      "metadata": {
        "id": "f9faf99f-d137-41aa-b1e2-45a1609b09f3"
      },
      "source": [
        "## Hyperparameter"
      ]
    },
    {
      "cell_type": "code",
      "execution_count": null,
      "id": "68d1431d-682e-42d2-b862-7931fe6aa670",
      "metadata": {
        "id": "68d1431d-682e-42d2-b862-7931fe6aa670"
      },
      "outputs": [],
      "source": [
        "tuner = kt.Hyperband(\n",
        "    build_model,\n",
        "    objective='val_accuracy',\n",
        "    max_epochs=10,\n",
        "    factor=3,\n",
        "    directory='my_dir',\n",
        "    project_name='classification_optimization'\n",
        ")"
      ]
    },
    {
      "cell_type": "code",
      "execution_count": null,
      "id": "3faad482-3643-4bc0-897c-b43f1e014393",
      "metadata": {
        "id": "3faad482-3643-4bc0-897c-b43f1e014393"
      },
      "outputs": [],
      "source": [
        "final_model = tf.keras.Sequential([\n",
        "    encoder,\n",
        "    tf.keras.layers.Embedding(\n",
        "        input_dim=len(encoder.get_vocabulary()),\n",
        "        output_dim=96,\n",
        "        mask_zero=True\n",
        "    ),\n",
        "    tf.keras.layers.Bidirectional(tf.keras.layers.LSTM(\n",
        "        units=64,\n",
        "        return_sequences=True\n",
        "    )),\n",
        "    tf.keras.layers.Bidirectional(tf.keras.layers.LSTM(\n",
        "        units=32\n",
        "    )),\n",
        "    tf.keras.layers.Dense(\n",
        "        units=96,\n",
        "        activation='relu'\n",
        "    ),\n",
        "    tf.keras.layers.Dropout(rate=0.2),\n",
        "    tf.keras.layers.Dense(4, activation='softmax')\n",
        "])"
      ]
    },
    {
      "cell_type": "code",
      "execution_count": null,
      "id": "9f1c54f5-3ea2-4a13-80b5-1b725a317421",
      "metadata": {
        "id": "9f1c54f5-3ea2-4a13-80b5-1b725a317421"
      },
      "outputs": [],
      "source": [
        "# Compilar o modelo final\n",
        "final_model.compile(optimizer='adam', loss='sparse_categorical_crossentropy', metrics=['accuracy'])"
      ]
    },
    {
      "cell_type": "code",
      "execution_count": null,
      "id": "dc06db0f-cc00-4d34-8a75-741c9baa74e7",
      "metadata": {
        "id": "dc06db0f-cc00-4d34-8a75-741c9baa74e7",
        "outputId": "34a2321b-4ba2-4e50-924b-488e80001c15"
      },
      "outputs": [
        {
          "name": "stdout",
          "output_type": "stream",
          "text": [
            "Epoch 1/10\n"
          ]
        },
        {
          "name": "stderr",
          "output_type": "stream",
          "text": [
            "2025-03-01 10:13:45.117661: E tensorflow/core/util/util.cc:131] oneDNN supports DT_BOOL only on platforms with AVX-512. Falling back to the default Eigen-based implementation if present.\n"
          ]
        },
        {
          "name": "stdout",
          "output_type": "stream",
          "text": [
            "\u001b[1m3000/3000\u001b[0m \u001b[32m━━━━━━━━━━━━━━━━━━━━\u001b[0m\u001b[37m\u001b[0m \u001b[1m237s\u001b[0m 77ms/step - accuracy: 0.7737 - loss: 0.5865 - val_accuracy: 0.8451 - val_loss: 0.4324\n",
            "Epoch 2/10\n",
            "\u001b[1m3000/3000\u001b[0m \u001b[32m━━━━━━━━━━━━━━━━━━━━\u001b[0m\u001b[37m\u001b[0m \u001b[1m351s\u001b[0m 117ms/step - accuracy: 0.8581 - loss: 0.4005 - val_accuracy: 0.8649 - val_loss: 0.3776\n",
            "Epoch 3/10\n",
            "\u001b[1m3000/3000\u001b[0m \u001b[32m━━━━━━━━━━━━━━━━━━━━\u001b[0m\u001b[37m\u001b[0m \u001b[1m322s\u001b[0m 107ms/step - accuracy: 0.8725 - loss: 0.3577 - val_accuracy: 0.8655 - val_loss: 0.3695\n",
            "Epoch 4/10\n",
            "\u001b[1m3000/3000\u001b[0m \u001b[32m━━━━━━━━━━━━━━━━━━━━\u001b[0m\u001b[37m\u001b[0m \u001b[1m142s\u001b[0m 47ms/step - accuracy: 0.8793 - loss: 0.3336 - val_accuracy: 0.8686 - val_loss: 0.3689\n",
            "Epoch 5/10\n",
            "\u001b[1m3000/3000\u001b[0m \u001b[32m━━━━━━━━━━━━━━━━━━━━\u001b[0m\u001b[37m\u001b[0m \u001b[1m173s\u001b[0m 58ms/step - accuracy: 0.8884 - loss: 0.3060 - val_accuracy: 0.8709 - val_loss: 0.3669\n",
            "Epoch 6/10\n",
            "\u001b[1m3000/3000\u001b[0m \u001b[32m━━━━━━━━━━━━━━━━━━━━\u001b[0m\u001b[37m\u001b[0m \u001b[1m171s\u001b[0m 57ms/step - accuracy: 0.8959 - loss: 0.2859 - val_accuracy: 0.8719 - val_loss: 0.3688\n",
            "Epoch 7/10\n",
            "\u001b[1m3000/3000\u001b[0m \u001b[32m━━━━━━━━━━━━━━━━━━━━\u001b[0m\u001b[37m\u001b[0m \u001b[1m172s\u001b[0m 57ms/step - accuracy: 0.9037 - loss: 0.2611 - val_accuracy: 0.8710 - val_loss: 0.3674\n",
            "Epoch 8/10\n",
            "\u001b[1m3000/3000\u001b[0m \u001b[32m━━━━━━━━━━━━━━━━━━━━\u001b[0m\u001b[37m\u001b[0m \u001b[1m170s\u001b[0m 57ms/step - accuracy: 0.9099 - loss: 0.2431 - val_accuracy: 0.8683 - val_loss: 0.3938\n",
            "Epoch 9/10\n",
            "\u001b[1m3000/3000\u001b[0m \u001b[32m━━━━━━━━━━━━━━━━━━━━\u001b[0m\u001b[37m\u001b[0m \u001b[1m177s\u001b[0m 59ms/step - accuracy: 0.9179 - loss: 0.2184 - val_accuracy: 0.8679 - val_loss: 0.4026\n",
            "Epoch 10/10\n",
            "\u001b[1m3000/3000\u001b[0m \u001b[32m━━━━━━━━━━━━━━━━━━━━\u001b[0m\u001b[37m\u001b[0m \u001b[1m179s\u001b[0m 60ms/step - accuracy: 0.9276 - loss: 0.1934 - val_accuracy: 0.8651 - val_loss: 0.4329\n"
          ]
        },
        {
          "data": {
            "text/plain": [
              "<keras.src.callbacks.history.History at 0x7058d61062a0>"
            ]
          },
          "execution_count": 23,
          "metadata": {},
          "output_type": "execute_result"
        }
      ],
      "source": [
        "final_model.fit(X_train, y_train, epochs=10, validation_data=(X_test, y_test))"
      ]
    },
    {
      "cell_type": "code",
      "execution_count": null,
      "id": "dc928392-2227-4b03-a050-137681495b66",
      "metadata": {
        "id": "dc928392-2227-4b03-a050-137681495b66",
        "outputId": "08ac2f7d-0c7f-4115-922d-4e80d07b8414"
      },
      "outputs": [
        {
          "name": "stdout",
          "output_type": "stream",
          "text": [
            "\u001b[1m750/750\u001b[0m \u001b[32m━━━━━━━━━━━━━━━━━━━━\u001b[0m\u001b[37m\u001b[0m \u001b[1m11s\u001b[0m 14ms/step\n"
          ]
        }
      ],
      "source": [
        "y_pred = final_model.predict(X_test).argmax(axis=1)"
      ]
    },
    {
      "cell_type": "code",
      "execution_count": null,
      "id": "d93d0ec3-f2a7-4180-8142-3c2de4e16200",
      "metadata": {
        "id": "d93d0ec3-f2a7-4180-8142-3c2de4e16200",
        "outputId": "64e71727-e640-4382-c34f-d0eec99bc9ef"
      },
      "outputs": [
        {
          "data": {
            "image/png": "[encoded data removed]",
            "text/plain": [
              "<Figure size 640x480 with 2 Axes>"
            ]
          },
          "metadata": {},
          "output_type": "display_data"
        }
      ],
      "source": [
        "conf_matrix = confusion_matrix(y_test, y_pred)\n",
        "disp = ConfusionMatrixDisplay(conf_matrix, display_labels=[0, 1, 2, 3])\n",
        "disp.plot(cmap='Blues_r')\n",
        "plt.show()"
      ]
    },
    {
      "cell_type": "markdown",
      "id": "43b52ac7-931a-4680-b403-d89a6e8ace38",
      "metadata": {
        "id": "43b52ac7-931a-4680-b403-d89a6e8ace38"
      },
      "source": [
        "## Text Sugestion"
      ]
    },
    {
      "cell_type": "markdown",
      "id": "74bc6c39-7671-448c-bbff-d043a6825d16",
      "metadata": {
        "id": "74bc6c39-7671-448c-bbff-d043a6825d16"
      },
      "source": [
        "### Vectorization"
      ]
    },
    {
      "cell_type": "code",
      "execution_count": 11,
      "id": "06aa179f-a514-4ada-b1b5-eae8e0599087",
      "metadata": {
        "id": "06aa179f-a514-4ada-b1b5-eae8e0599087"
      },
      "outputs": [],
      "source": [
        "random.seed(7)\n",
        "df_sample = df.sample(n=1_000)"
      ]
    },
    {
      "cell_type": "code",
      "execution_count": 12,
      "id": "09a9bf50-f15a-40dc-9e31-d5ffaef675f7",
      "metadata": {
        "id": "09a9bf50-f15a-40dc-9e31-d5ffaef675f7"
      },
      "outputs": [],
      "source": [
        "corpus = df_sample['text'].to_list()"
      ]
    },
    {
      "cell_type": "code",
      "execution_count": null,
      "id": "30f0bef9-3473-4592-b71d-ddbbfe8d8d88",
      "metadata": {
        "id": "30f0bef9-3473-4592-b71d-ddbbfe8d8d88",
        "outputId": "2c48d337-77a3-4b26-a45b-e581f1796846"
      },
      "outputs": [
        {
          "data": {
            "text/plain": [
              "['Intel Shows Wireless TransceiverPrototype 90-nanometer radio chip promises more power than current CMOS technology.',\n",
              " 'Novak topples Henman to advance to semi-finalsJiri Novak made Tim Henman #39;s life as miserable yesterday as he did at this summer #39;s Olympics, toppling the second-seeded Briton 7-6 (5), 7-5 in the quarterfinals of the euro989,750 (US\\\\$1.',\n",
              " 'Analyst Sees Cingular Awarding Deal Soon LOS ANGELES (Reuters) - Prudential Equity Group on Friday  said Cingular Wireless has made a decision on which vendors it  will use for the deployment of its next-generation wireless  network, with Ericsson &lt;A HREF=\"http://www.investor.reuters.com/FullQuote.aspx?ticker=ERICb.ST target=/stocks/quickinfo/fullquote\"&gt;ERICb.ST&lt;/A&gt; and Lucent Technologies Inc.  &lt;A HREF=\"http://www.investor.reuters.com/FullQuote.aspx?ticker=LU.N target=/stocks/quickinfo/fullquote\"&gt;LU.N&lt;/A&gt; likely the biggest beneficiaries.']"
            ]
          },
          "execution_count": 32,
          "metadata": {},
          "output_type": "execute_result"
        }
      ],
      "source": [
        "corpus[:3]"
      ]
    },
    {
      "cell_type": "code",
      "execution_count": 13,
      "id": "55990f1c-aa7d-44c2-8def-28481c022148",
      "metadata": {
        "id": "55990f1c-aa7d-44c2-8def-28481c022148"
      },
      "outputs": [],
      "source": [
        "max_vocab_size = 20_000\n",
        "max_sequence_length = 50\n",
        "\n",
        "vectorizer = TextVectorization(max_tokens=max_vocab_size, output_sequence_length=max_sequence_length, output_mode='int')"
      ]
    },
    {
      "cell_type": "code",
      "execution_count": 14,
      "id": "8be230af-acc8-492c-afb1-cdba26ecdbca",
      "metadata": {
        "id": "8be230af-acc8-492c-afb1-cdba26ecdbca"
      },
      "outputs": [],
      "source": [
        "vectorizer.adapt(corpus)"
      ]
    },
    {
      "cell_type": "code",
      "execution_count": 15,
      "id": "73bf1f03-deb2-40e0-900b-0eaa40720c5e",
      "metadata": {
        "id": "73bf1f03-deb2-40e0-900b-0eaa40720c5e"
      },
      "outputs": [],
      "source": [
        "tokenized_corpus = vectorizer(corpus)"
      ]
    },
    {
      "cell_type": "code",
      "execution_count": null,
      "id": "2697b919-7c54-40f4-8e03-f4cb60da8c25",
      "metadata": {
        "id": "2697b919-7c54-40f4-8e03-f4cb60da8c25"
      },
      "outputs": [],
      "source": [
        "# Vectorizer\n",
        "with open('vectorizer.pkl', 'wb') as file:\n",
        "    pickle.dump(vectorizer, file)"
      ]
    },
    {
      "cell_type": "code",
      "execution_count": 16,
      "id": "c0155c42-9a92-4f79-9927-8112697d607f",
      "metadata": {
        "id": "c0155c42-9a92-4f79-9927-8112697d607f"
      },
      "outputs": [],
      "source": [
        "# Sequence\n",
        "input_sequences = []\n",
        "\n",
        "for token_list in tokenized_corpus.numpy():\n",
        "    for i in range(1, len(token_list)):\n",
        "        n_gram_sequence = token_list[:i+1]\n",
        "        input_sequences.append(n_gram_sequence)"
      ]
    },
    {
      "cell_type": "code",
      "execution_count": 17,
      "id": "87f79389-35f8-4284-b528-4e382e6cd8b7",
      "metadata": {
        "id": "87f79389-35f8-4284-b528-4e382e6cd8b7",
        "outputId": "15aa9856-d43c-4030-ec53-9b4fd7f4eb16",
        "colab": {
          "base_uri": "https://localhost:8080/"
        }
      },
      "outputs": [
        {
          "output_type": "execute_result",
          "data": {
            "text/plain": [
              "[array([1610,   94]),\n",
              " array([1610,   94,  497]),\n",
              " array([1610,   94,  497,   19])]"
            ]
          },
          "metadata": {},
          "execution_count": 17
        }
      ],
      "source": [
        "input_sequences[:3]"
      ]
    },
    {
      "cell_type": "code",
      "execution_count": 18,
      "id": "35c47755-ba48-4a8a-86d5-8c9c46bdadce",
      "metadata": {
        "id": "35c47755-ba48-4a8a-86d5-8c9c46bdadce"
      },
      "outputs": [],
      "source": [
        "input_sequence_prepared = prepare_sequences(input_sequences)"
      ]
    },
    {
      "cell_type": "code",
      "execution_count": null,
      "id": "c80f7c38-205a-47c1-8c03-4b99a994cd30",
      "metadata": {
        "id": "c80f7c38-205a-47c1-8c03-4b99a994cd30",
        "outputId": "41631021-0192-4b3d-b8b3-ee133f740d9a"
      },
      "outputs": [
        {
          "data": {
            "text/plain": [
              "array([[   0,    0,    0,    0,    0,    0,    0,    0,    0,    0,    0,\n",
              "           0,    0,    0,    0,    0,    0,    0,    0,    0,    0,    0,\n",
              "           0,    0,    0,    0,    0,    0,    0,    0,    0,    0,    0,\n",
              "           0,    0,    0,    0,    0,    0,    0,    0,    0,    0,    0,\n",
              "           0,    0,    0,    0,  504, 1769],\n",
              "       [   0,    0,    0,    0,    0,    0,    0,    0,    0,    0,    0,\n",
              "           0,    0,    0,    0,    0,    0,    0,    0,    0,    0,    0,\n",
              "           0,    0,    0,    0,    0,    0,    0,    0,    0,    0,    0,\n",
              "           0,    0,    0,    0,    0,    0,    0,    0,    0,    0,    0,\n",
              "           0,    0,    0,  504, 1769,  255],\n",
              "       [   0,    0,    0,    0,    0,    0,    0,    0,    0,    0,    0,\n",
              "           0,    0,    0,    0,    0,    0,    0,    0,    0,    0,    0,\n",
              "           0,    0,    0,    0,    0,    0,    0,    0,    0,    0,    0,\n",
              "           0,    0,    0,    0,    0,    0,    0,    0,    0,    0,    0,\n",
              "           0,    0,  504, 1769,  255, 4120]], dtype=int32)"
            ]
          },
          "execution_count": 52,
          "metadata": {},
          "output_type": "execute_result"
        }
      ],
      "source": [
        "input_sequence_prepared[:3]"
      ]
    },
    {
      "cell_type": "markdown",
      "id": "c3a37808-4677-49b0-b4cd-49826fcd6f49",
      "metadata": {
        "id": "c3a37808-4677-49b0-b4cd-49826fcd6f49"
      },
      "source": [
        "### Model prep"
      ]
    },
    {
      "cell_type": "code",
      "execution_count": 19,
      "id": "13da8544-084a-4a51-aac9-41894654336c",
      "metadata": {
        "id": "13da8544-084a-4a51-aac9-41894654336c"
      },
      "outputs": [],
      "source": [
        "X = input_sequence_prepared[:, :-1]\n",
        "y = input_sequence_prepared[:, -1]"
      ]
    },
    {
      "cell_type": "code",
      "execution_count": 20,
      "id": "44ac6236-de02-4cc9-8297-d93685c70a29",
      "metadata": {
        "id": "44ac6236-de02-4cc9-8297-d93685c70a29"
      },
      "outputs": [],
      "source": [
        "y = tf.keras.utils.to_categorical(y, num_classes=max_vocab_size)"
      ]
    },
    {
      "cell_type": "code",
      "execution_count": null,
      "id": "250df09c-cab8-48dd-bac8-5aa66873ff6b",
      "metadata": {
        "id": "250df09c-cab8-48dd-bac8-5aa66873ff6b",
        "outputId": "e6bb4478-74ec-4395-f05f-1398db206dec"
      },
      "outputs": [
        {
          "data": {
            "text/plain": [
              "array([[0., 0., 0., ..., 0., 0., 0.],\n",
              "       [0., 0., 0., ..., 0., 0., 0.],\n",
              "       [0., 0., 0., ..., 0., 0., 0.]])"
            ]
          },
          "execution_count": 57,
          "metadata": {},
          "output_type": "execute_result"
        }
      ],
      "source": [
        "y[:3]"
      ]
    },
    {
      "cell_type": "code",
      "execution_count": 21,
      "id": "083d3549-12e0-4d37-8b9f-cfa34f18a17e",
      "metadata": {
        "id": "083d3549-12e0-4d37-8b9f-cfa34f18a17e"
      },
      "outputs": [],
      "source": [
        "model = tf.keras.Sequential([\n",
        "    tf.keras.layers.Embedding(\n",
        "        input_dim=max_vocab_size,\n",
        "        output_dim=128,\n",
        "        mask_zero=False\n",
        "    ),\n",
        "    tf.keras.layers.Bidirectional(tf.keras.layers.LSTM(128, return_sequences=True)),\n",
        "    tf.keras.layers.Bidirectional(tf.keras.layers.LSTM(64)),\n",
        "    tf.keras.layers.Dense(64, activation='relu'), # Hidden layer\n",
        "    tf.keras.layers.BatchNormalization(),\n",
        "    tf.keras.layers.Dropout(0.5),\n",
        "    tf.keras.layers.Dense(max_vocab_size, activation='softmax') # Output\n",
        "])"
      ]
    },
    {
      "cell_type": "code",
      "execution_count": 22,
      "id": "9005ac00-23b4-43c8-9087-90eb3de483ee",
      "metadata": {
        "id": "9005ac00-23b4-43c8-9087-90eb3de483ee"
      },
      "outputs": [],
      "source": [
        "model.compile(\n",
        "    loss='categorical_crossentropy',\n",
        "    optimizer=tf.keras.optimizers.Adam(learning_rate=0.001),\n",
        "    metrics=['Accuracy']\n",
        ")"
      ]
    },
    {
      "cell_type": "code",
      "execution_count": 23,
      "id": "8a8f403d-6435-4604-b7b5-8c4ae925ebcb",
      "metadata": {
        "id": "8a8f403d-6435-4604-b7b5-8c4ae925ebcb",
        "outputId": "968d0b12-01db-4d1c-93dd-2c9512209d81",
        "colab": {
          "base_uri": "https://localhost:8080/"
        }
      },
      "outputs": [
        {
          "output_type": "stream",
          "name": "stdout",
          "text": [
            "Epoch 1/100\n",
            "\u001b[1m544/544\u001b[0m \u001b[32m━━━━━━━━━━━━━━━━━━━━\u001b[0m\u001b[37m\u001b[0m \u001b[1m21s\u001b[0m 22ms/step - Accuracy: 0.0324 - loss: 9.0992\n",
            "Epoch 2/100\n",
            "\u001b[1m544/544\u001b[0m \u001b[32m━━━━━━━━━━━━━━━━━━━━\u001b[0m\u001b[37m\u001b[0m \u001b[1m17s\u001b[0m 24ms/step - Accuracy: 0.0548 - loss: 7.4921\n",
            "Epoch 3/100\n",
            "\u001b[1m544/544\u001b[0m \u001b[32m━━━━━━━━━━━━━━━━━━━━\u001b[0m\u001b[37m\u001b[0m \u001b[1m20s\u001b[0m 23ms/step - Accuracy: 0.0673 - loss: 7.1775\n",
            "Epoch 4/100\n",
            "\u001b[1m544/544\u001b[0m \u001b[32m━━━━━━━━━━━━━━━━━━━━\u001b[0m\u001b[37m\u001b[0m \u001b[1m20s\u001b[0m 23ms/step - Accuracy: 0.0790 - loss: 6.9425\n",
            "Epoch 5/100\n",
            "\u001b[1m544/544\u001b[0m \u001b[32m━━━━━━━━━━━━━━━━━━━━\u001b[0m\u001b[37m\u001b[0m \u001b[1m20s\u001b[0m 23ms/step - Accuracy: 0.0893 - loss: 6.6869\n",
            "Epoch 6/100\n",
            "\u001b[1m544/544\u001b[0m \u001b[32m━━━━━━━━━━━━━━━━━━━━\u001b[0m\u001b[37m\u001b[0m \u001b[1m20s\u001b[0m 23ms/step - Accuracy: 0.1008 - loss: 6.4800\n",
            "Epoch 7/100\n",
            "\u001b[1m544/544\u001b[0m \u001b[32m━━━━━━━━━━━━━━━━━━━━\u001b[0m\u001b[37m\u001b[0m \u001b[1m20s\u001b[0m 23ms/step - Accuracy: 0.1130 - loss: 6.2138\n",
            "Epoch 8/100\n",
            "\u001b[1m544/544\u001b[0m \u001b[32m━━━━━━━━━━━━━━━━━━━━\u001b[0m\u001b[37m\u001b[0m \u001b[1m20s\u001b[0m 23ms/step - Accuracy: 0.1223 - loss: 6.0041\n",
            "Epoch 9/100\n",
            "\u001b[1m544/544\u001b[0m \u001b[32m━━━━━━━━━━━━━━━━━━━━\u001b[0m\u001b[37m\u001b[0m \u001b[1m21s\u001b[0m 23ms/step - Accuracy: 0.1422 - loss: 5.7074\n",
            "Epoch 10/100\n",
            "\u001b[1m544/544\u001b[0m \u001b[32m━━━━━━━━━━━━━━━━━━━━\u001b[0m\u001b[37m\u001b[0m \u001b[1m12s\u001b[0m 22ms/step - Accuracy: 0.1533 - loss: 5.5133\n",
            "Epoch 11/100\n",
            "\u001b[1m544/544\u001b[0m \u001b[32m━━━━━━━━━━━━━━━━━━━━\u001b[0m\u001b[37m\u001b[0m \u001b[1m21s\u001b[0m 23ms/step - Accuracy: 0.1689 - loss: 5.2941\n",
            "Epoch 12/100\n",
            "\u001b[1m544/544\u001b[0m \u001b[32m━━━━━━━━━━━━━━━━━━━━\u001b[0m\u001b[37m\u001b[0m \u001b[1m20s\u001b[0m 23ms/step - Accuracy: 0.1817 - loss: 5.0841\n",
            "Epoch 13/100\n",
            "\u001b[1m544/544\u001b[0m \u001b[32m━━━━━━━━━━━━━━━━━━━━\u001b[0m\u001b[37m\u001b[0m \u001b[1m12s\u001b[0m 22ms/step - Accuracy: 0.1955 - loss: 4.8797\n",
            "Epoch 14/100\n",
            "\u001b[1m544/544\u001b[0m \u001b[32m━━━━━━━━━━━━━━━━━━━━\u001b[0m\u001b[37m\u001b[0m \u001b[1m12s\u001b[0m 22ms/step - Accuracy: 0.2119 - loss: 4.7052\n",
            "Epoch 15/100\n",
            "\u001b[1m544/544\u001b[0m \u001b[32m━━━━━━━━━━━━━━━━━━━━\u001b[0m\u001b[37m\u001b[0m \u001b[1m21s\u001b[0m 23ms/step - Accuracy: 0.2260 - loss: 4.5570\n",
            "Epoch 16/100\n",
            "\u001b[1m544/544\u001b[0m \u001b[32m━━━━━━━━━━━━━━━━━━━━\u001b[0m\u001b[37m\u001b[0m \u001b[1m20s\u001b[0m 22ms/step - Accuracy: 0.2392 - loss: 4.3758\n",
            "Epoch 17/100\n",
            "\u001b[1m544/544\u001b[0m \u001b[32m━━━━━━━━━━━━━━━━━━━━\u001b[0m\u001b[37m\u001b[0m \u001b[1m12s\u001b[0m 22ms/step - Accuracy: 0.2489 - loss: 4.1920\n",
            "Epoch 18/100\n",
            "\u001b[1m544/544\u001b[0m \u001b[32m━━━━━━━━━━━━━━━━━━━━\u001b[0m\u001b[37m\u001b[0m \u001b[1m20s\u001b[0m 22ms/step - Accuracy: 0.2668 - loss: 4.0337\n",
            "Epoch 19/100\n",
            "\u001b[1m544/544\u001b[0m \u001b[32m━━━━━━━━━━━━━━━━━━━━\u001b[0m\u001b[37m\u001b[0m \u001b[1m21s\u001b[0m 23ms/step - Accuracy: 0.2712 - loss: 3.9289\n",
            "Epoch 20/100\n",
            "\u001b[1m544/544\u001b[0m \u001b[32m━━━━━━━━━━━━━━━━━━━━\u001b[0m\u001b[37m\u001b[0m \u001b[1m21s\u001b[0m 23ms/step - Accuracy: 0.2900 - loss: 3.7906\n",
            "Epoch 21/100\n",
            "\u001b[1m544/544\u001b[0m \u001b[32m━━━━━━━━━━━━━━━━━━━━\u001b[0m\u001b[37m\u001b[0m \u001b[1m20s\u001b[0m 23ms/step - Accuracy: 0.2998 - loss: 3.6557\n",
            "Epoch 22/100\n",
            "\u001b[1m544/544\u001b[0m \u001b[32m━━━━━━━━━━━━━━━━━━━━\u001b[0m\u001b[37m\u001b[0m \u001b[1m21s\u001b[0m 23ms/step - Accuracy: 0.3158 - loss: 3.5607\n",
            "Epoch 23/100\n",
            "\u001b[1m544/544\u001b[0m \u001b[32m━━━━━━━━━━━━━━━━━━━━\u001b[0m\u001b[37m\u001b[0m \u001b[1m21s\u001b[0m 24ms/step - Accuracy: 0.3255 - loss: 3.4479\n",
            "Epoch 24/100\n",
            "\u001b[1m544/544\u001b[0m \u001b[32m━━━━━━━━━━━━━━━━━━━━\u001b[0m\u001b[37m\u001b[0m \u001b[1m20s\u001b[0m 23ms/step - Accuracy: 0.3369 - loss: 3.3392\n",
            "Epoch 25/100\n",
            "\u001b[1m544/544\u001b[0m \u001b[32m━━━━━━━━━━━━━━━━━━━━\u001b[0m\u001b[37m\u001b[0m \u001b[1m20s\u001b[0m 23ms/step - Accuracy: 0.3507 - loss: 3.2343\n",
            "Epoch 26/100\n",
            "\u001b[1m544/544\u001b[0m \u001b[32m━━━━━━━━━━━━━━━━━━━━\u001b[0m\u001b[37m\u001b[0m \u001b[1m20s\u001b[0m 23ms/step - Accuracy: 0.3519 - loss: 3.1861\n",
            "Epoch 27/100\n",
            "\u001b[1m544/544\u001b[0m \u001b[32m━━━━━━━━━━━━━━━━━━━━\u001b[0m\u001b[37m\u001b[0m \u001b[1m21s\u001b[0m 23ms/step - Accuracy: 0.3738 - loss: 3.0580\n",
            "Epoch 28/100\n",
            "\u001b[1m544/544\u001b[0m \u001b[32m━━━━━━━━━━━━━━━━━━━━\u001b[0m\u001b[37m\u001b[0m \u001b[1m20s\u001b[0m 23ms/step - Accuracy: 0.3783 - loss: 2.9772\n",
            "Epoch 29/100\n",
            "\u001b[1m544/544\u001b[0m \u001b[32m━━━━━━━━━━━━━━━━━━━━\u001b[0m\u001b[37m\u001b[0m \u001b[1m20s\u001b[0m 23ms/step - Accuracy: 0.3925 - loss: 2.8982\n",
            "Epoch 30/100\n",
            "\u001b[1m544/544\u001b[0m \u001b[32m━━━━━━━━━━━━━━━━━━━━\u001b[0m\u001b[37m\u001b[0m \u001b[1m12s\u001b[0m 22ms/step - Accuracy: 0.4004 - loss: 2.8280\n",
            "Epoch 31/100\n",
            "\u001b[1m544/544\u001b[0m \u001b[32m━━━━━━━━━━━━━━━━━━━━\u001b[0m\u001b[37m\u001b[0m \u001b[1m12s\u001b[0m 23ms/step - Accuracy: 0.4056 - loss: 2.7897\n",
            "Epoch 32/100\n",
            "\u001b[1m544/544\u001b[0m \u001b[32m━━━━━━━━━━━━━━━━━━━━\u001b[0m\u001b[37m\u001b[0m \u001b[1m20s\u001b[0m 23ms/step - Accuracy: 0.4198 - loss: 2.6681\n",
            "Epoch 33/100\n",
            "\u001b[1m544/544\u001b[0m \u001b[32m━━━━━━━━━━━━━━━━━━━━\u001b[0m\u001b[37m\u001b[0m \u001b[1m21s\u001b[0m 23ms/step - Accuracy: 0.4223 - loss: 2.6868\n",
            "Epoch 34/100\n",
            "\u001b[1m544/544\u001b[0m \u001b[32m━━━━━━━━━━━━━━━━━━━━\u001b[0m\u001b[37m\u001b[0m \u001b[1m20s\u001b[0m 23ms/step - Accuracy: 0.4360 - loss: 2.6087\n",
            "Epoch 35/100\n",
            "\u001b[1m544/544\u001b[0m \u001b[32m━━━━━━━━━━━━━━━━━━━━\u001b[0m\u001b[37m\u001b[0m \u001b[1m21s\u001b[0m 23ms/step - Accuracy: 0.4419 - loss: 2.5383\n",
            "Epoch 36/100\n",
            "\u001b[1m544/544\u001b[0m \u001b[32m━━━━━━━━━━━━━━━━━━━━\u001b[0m\u001b[37m\u001b[0m \u001b[1m12s\u001b[0m 23ms/step - Accuracy: 0.4452 - loss: 2.5193\n",
            "Epoch 37/100\n",
            "\u001b[1m544/544\u001b[0m \u001b[32m━━━━━━━━━━━━━━━━━━━━\u001b[0m\u001b[37m\u001b[0m \u001b[1m12s\u001b[0m 23ms/step - Accuracy: 0.4554 - loss: 2.4494\n",
            "Epoch 38/100\n",
            "\u001b[1m544/544\u001b[0m \u001b[32m━━━━━━━━━━━━━━━━━━━━\u001b[0m\u001b[37m\u001b[0m \u001b[1m21s\u001b[0m 23ms/step - Accuracy: 0.4655 - loss: 2.3962\n",
            "Epoch 39/100\n",
            "\u001b[1m544/544\u001b[0m \u001b[32m━━━━━━━━━━━━━━━━━━━━\u001b[0m\u001b[37m\u001b[0m \u001b[1m20s\u001b[0m 23ms/step - Accuracy: 0.4655 - loss: 2.3798\n",
            "Epoch 40/100\n",
            "\u001b[1m544/544\u001b[0m \u001b[32m━━━━━━━━━━━━━━━━━━━━\u001b[0m\u001b[37m\u001b[0m \u001b[1m20s\u001b[0m 23ms/step - Accuracy: 0.4810 - loss: 2.3152\n",
            "Epoch 41/100\n",
            "\u001b[1m544/544\u001b[0m \u001b[32m━━━━━━━━━━━━━━━━━━━━\u001b[0m\u001b[37m\u001b[0m \u001b[1m21s\u001b[0m 23ms/step - Accuracy: 0.4819 - loss: 2.2917\n",
            "Epoch 42/100\n",
            "\u001b[1m544/544\u001b[0m \u001b[32m━━━━━━━━━━━━━━━━━━━━\u001b[0m\u001b[37m\u001b[0m \u001b[1m20s\u001b[0m 23ms/step - Accuracy: 0.4898 - loss: 2.2336\n",
            "Epoch 43/100\n",
            "\u001b[1m544/544\u001b[0m \u001b[32m━━━━━━━━━━━━━━━━━━━━\u001b[0m\u001b[37m\u001b[0m \u001b[1m21s\u001b[0m 23ms/step - Accuracy: 0.4927 - loss: 2.2282\n",
            "Epoch 44/100\n",
            "\u001b[1m544/544\u001b[0m \u001b[32m━━━━━━━━━━━━━━━━━━━━\u001b[0m\u001b[37m\u001b[0m \u001b[1m21s\u001b[0m 23ms/step - Accuracy: 0.5002 - loss: 2.1740\n",
            "Epoch 45/100\n",
            "\u001b[1m544/544\u001b[0m \u001b[32m━━━━━━━━━━━━━━━━━━━━\u001b[0m\u001b[37m\u001b[0m \u001b[1m13s\u001b[0m 23ms/step - Accuracy: 0.5054 - loss: 2.1688\n",
            "Epoch 46/100\n",
            "\u001b[1m544/544\u001b[0m \u001b[32m━━━━━━━━━━━━━━━━━━━━\u001b[0m\u001b[37m\u001b[0m \u001b[1m21s\u001b[0m 24ms/step - Accuracy: 0.5124 - loss: 2.1188\n",
            "Epoch 47/100\n",
            "\u001b[1m544/544\u001b[0m \u001b[32m━━━━━━━━━━━━━━━━━━━━\u001b[0m\u001b[37m\u001b[0m \u001b[1m21s\u001b[0m 24ms/step - Accuracy: 0.5119 - loss: 2.1000\n",
            "Epoch 48/100\n",
            "\u001b[1m544/544\u001b[0m \u001b[32m━━━━━━━━━━━━━━━━━━━━\u001b[0m\u001b[37m\u001b[0m \u001b[1m13s\u001b[0m 24ms/step - Accuracy: 0.5188 - loss: 2.0669\n",
            "Epoch 49/100\n",
            "\u001b[1m544/544\u001b[0m \u001b[32m━━━━━━━━━━━━━━━━━━━━\u001b[0m\u001b[37m\u001b[0m \u001b[1m21s\u001b[0m 24ms/step - Accuracy: 0.5216 - loss: 2.0630\n",
            "Epoch 50/100\n",
            "\u001b[1m544/544\u001b[0m \u001b[32m━━━━━━━━━━━━━━━━━━━━\u001b[0m\u001b[37m\u001b[0m \u001b[1m13s\u001b[0m 24ms/step - Accuracy: 0.5248 - loss: 2.0292\n",
            "Epoch 51/100\n",
            "\u001b[1m544/544\u001b[0m \u001b[32m━━━━━━━━━━━━━━━━━━━━\u001b[0m\u001b[37m\u001b[0m \u001b[1m21s\u001b[0m 24ms/step - Accuracy: 0.5298 - loss: 1.9935\n",
            "Epoch 52/100\n",
            "\u001b[1m544/544\u001b[0m \u001b[32m━━━━━━━━━━━━━━━━━━━━\u001b[0m\u001b[37m\u001b[0m \u001b[1m21s\u001b[0m 24ms/step - Accuracy: 0.5340 - loss: 1.9703\n",
            "Epoch 53/100\n",
            "\u001b[1m544/544\u001b[0m \u001b[32m━━━━━━━━━━━━━━━━━━━━\u001b[0m\u001b[37m\u001b[0m \u001b[1m13s\u001b[0m 24ms/step - Accuracy: 0.5330 - loss: 1.9800\n",
            "Epoch 54/100\n",
            "\u001b[1m544/544\u001b[0m \u001b[32m━━━━━━━━━━━━━━━━━━━━\u001b[0m\u001b[37m\u001b[0m \u001b[1m21s\u001b[0m 24ms/step - Accuracy: 0.5365 - loss: 1.9647\n",
            "Epoch 55/100\n",
            "\u001b[1m544/544\u001b[0m \u001b[32m━━━━━━━━━━━━━━━━━━━━\u001b[0m\u001b[37m\u001b[0m \u001b[1m13s\u001b[0m 24ms/step - Accuracy: 0.5348 - loss: 1.9588\n",
            "Epoch 56/100\n",
            "\u001b[1m544/544\u001b[0m \u001b[32m━━━━━━━━━━━━━━━━━━━━\u001b[0m\u001b[37m\u001b[0m \u001b[1m13s\u001b[0m 24ms/step - Accuracy: 0.5387 - loss: 1.9179\n",
            "Epoch 57/100\n",
            "\u001b[1m544/544\u001b[0m \u001b[32m━━━━━━━━━━━━━━━━━━━━\u001b[0m\u001b[37m\u001b[0m \u001b[1m20s\u001b[0m 23ms/step - Accuracy: 0.5478 - loss: 1.9046\n",
            "Epoch 58/100\n",
            "\u001b[1m544/544\u001b[0m \u001b[32m━━━━━━━━━━━━━━━━━━━━\u001b[0m\u001b[37m\u001b[0m \u001b[1m21s\u001b[0m 24ms/step - Accuracy: 0.5502 - loss: 1.8907\n",
            "Epoch 59/100\n",
            "\u001b[1m544/544\u001b[0m \u001b[32m━━━━━━━━━━━━━━━━━━━━\u001b[0m\u001b[37m\u001b[0m \u001b[1m20s\u001b[0m 23ms/step - Accuracy: 0.5511 - loss: 1.8607\n",
            "Epoch 60/100\n",
            "\u001b[1m544/544\u001b[0m \u001b[32m━━━━━━━━━━━━━━━━━━━━\u001b[0m\u001b[37m\u001b[0m \u001b[1m20s\u001b[0m 23ms/step - Accuracy: 0.5566 - loss: 1.8525\n",
            "Epoch 61/100\n",
            "\u001b[1m544/544\u001b[0m \u001b[32m━━━━━━━━━━━━━━━━━━━━\u001b[0m\u001b[37m\u001b[0m \u001b[1m20s\u001b[0m 23ms/step - Accuracy: 0.5507 - loss: 1.8571\n",
            "Epoch 62/100\n",
            "\u001b[1m544/544\u001b[0m \u001b[32m━━━━━━━━━━━━━━━━━━━━\u001b[0m\u001b[37m\u001b[0m \u001b[1m21s\u001b[0m 24ms/step - Accuracy: 0.5562 - loss: 1.8477\n",
            "Epoch 63/100\n",
            "\u001b[1m544/544\u001b[0m \u001b[32m━━━━━━━━━━━━━━━━━━━━\u001b[0m\u001b[37m\u001b[0m \u001b[1m20s\u001b[0m 23ms/step - Accuracy: 0.5665 - loss: 1.8200\n",
            "Epoch 64/100\n",
            "\u001b[1m544/544\u001b[0m \u001b[32m━━━━━━━━━━━━━━━━━━━━\u001b[0m\u001b[37m\u001b[0m \u001b[1m21s\u001b[0m 23ms/step - Accuracy: 0.5561 - loss: 1.8351\n",
            "Epoch 65/100\n",
            "\u001b[1m544/544\u001b[0m \u001b[32m━━━━━━━━━━━━━━━━━━━━\u001b[0m\u001b[37m\u001b[0m \u001b[1m20s\u001b[0m 23ms/step - Accuracy: 0.5634 - loss: 1.8145\n",
            "Epoch 66/100\n",
            "\u001b[1m544/544\u001b[0m \u001b[32m━━━━━━━━━━━━━━━━━━━━\u001b[0m\u001b[37m\u001b[0m \u001b[1m20s\u001b[0m 23ms/step - Accuracy: 0.5649 - loss: 1.7905\n",
            "Epoch 67/100\n",
            "\u001b[1m544/544\u001b[0m \u001b[32m━━━━━━━━━━━━━━━━━━━━\u001b[0m\u001b[37m\u001b[0m \u001b[1m21s\u001b[0m 23ms/step - Accuracy: 0.5661 - loss: 1.7906\n",
            "Epoch 68/100\n",
            "\u001b[1m544/544\u001b[0m \u001b[32m━━━━━━━━━━━━━━━━━━━━\u001b[0m\u001b[37m\u001b[0m \u001b[1m20s\u001b[0m 23ms/step - Accuracy: 0.5667 - loss: 1.7779\n",
            "Epoch 69/100\n",
            "\u001b[1m544/544\u001b[0m \u001b[32m━━━━━━━━━━━━━━━━━━━━\u001b[0m\u001b[37m\u001b[0m \u001b[1m21s\u001b[0m 23ms/step - Accuracy: 0.5766 - loss: 1.7455\n",
            "Epoch 70/100\n",
            "\u001b[1m544/544\u001b[0m \u001b[32m━━━━━━━━━━━━━━━━━━━━\u001b[0m\u001b[37m\u001b[0m \u001b[1m20s\u001b[0m 23ms/step - Accuracy: 0.5769 - loss: 1.7470\n",
            "Epoch 71/100\n",
            "\u001b[1m544/544\u001b[0m \u001b[32m━━━━━━━━━━━━━━━━━━━━\u001b[0m\u001b[37m\u001b[0m \u001b[1m21s\u001b[0m 24ms/step - Accuracy: 0.5768 - loss: 1.7545\n",
            "Epoch 72/100\n",
            "\u001b[1m544/544\u001b[0m \u001b[32m━━━━━━━━━━━━━━━━━━━━\u001b[0m\u001b[37m\u001b[0m \u001b[1m20s\u001b[0m 24ms/step - Accuracy: 0.5786 - loss: 1.7296\n",
            "Epoch 73/100\n",
            "\u001b[1m544/544\u001b[0m \u001b[32m━━━━━━━━━━━━━━━━━━━━\u001b[0m\u001b[37m\u001b[0m \u001b[1m21s\u001b[0m 24ms/step - Accuracy: 0.5798 - loss: 1.7249\n",
            "Epoch 74/100\n",
            "\u001b[1m544/544\u001b[0m \u001b[32m━━━━━━━━━━━━━━━━━━━━\u001b[0m\u001b[37m\u001b[0m \u001b[1m20s\u001b[0m 24ms/step - Accuracy: 0.5763 - loss: 1.7367\n",
            "Epoch 75/100\n",
            "\u001b[1m544/544\u001b[0m \u001b[32m━━━━━━━━━━━━━━━━━━━━\u001b[0m\u001b[37m\u001b[0m \u001b[1m20s\u001b[0m 24ms/step - Accuracy: 0.5823 - loss: 1.7143\n",
            "Epoch 76/100\n",
            "\u001b[1m544/544\u001b[0m \u001b[32m━━━━━━━━━━━━━━━━━━━━\u001b[0m\u001b[37m\u001b[0m \u001b[1m20s\u001b[0m 24ms/step - Accuracy: 0.5786 - loss: 1.7271\n",
            "Epoch 77/100\n",
            "\u001b[1m544/544\u001b[0m \u001b[32m━━━━━━━━━━━━━━━━━━━━\u001b[0m\u001b[37m\u001b[0m \u001b[1m21s\u001b[0m 24ms/step - Accuracy: 0.5830 - loss: 1.6858\n",
            "Epoch 78/100\n",
            "\u001b[1m544/544\u001b[0m \u001b[32m━━━━━━━━━━━━━━━━━━━━\u001b[0m\u001b[37m\u001b[0m \u001b[1m20s\u001b[0m 24ms/step - Accuracy: 0.5830 - loss: 1.7009\n",
            "Epoch 79/100\n",
            "\u001b[1m544/544\u001b[0m \u001b[32m━━━━━━━━━━━━━━━━━━━━\u001b[0m\u001b[37m\u001b[0m \u001b[1m20s\u001b[0m 23ms/step - Accuracy: 0.5889 - loss: 1.6898\n",
            "Epoch 80/100\n",
            "\u001b[1m544/544\u001b[0m \u001b[32m━━━━━━━━━━━━━━━━━━━━\u001b[0m\u001b[37m\u001b[0m \u001b[1m13s\u001b[0m 23ms/step - Accuracy: 0.5904 - loss: 1.6647\n",
            "Epoch 81/100\n",
            "\u001b[1m544/544\u001b[0m \u001b[32m━━━━━━━━━━━━━━━━━━━━\u001b[0m\u001b[37m\u001b[0m \u001b[1m20s\u001b[0m 23ms/step - Accuracy: 0.5985 - loss: 1.6449\n",
            "Epoch 82/100\n",
            "\u001b[1m544/544\u001b[0m \u001b[32m━━━━━━━━━━━━━━━━━━━━\u001b[0m\u001b[37m\u001b[0m \u001b[1m21s\u001b[0m 24ms/step - Accuracy: 0.5957 - loss: 1.6554\n",
            "Epoch 83/100\n",
            "\u001b[1m544/544\u001b[0m \u001b[32m━━━━━━━━━━━━━━━━━━━━\u001b[0m\u001b[37m\u001b[0m \u001b[1m13s\u001b[0m 24ms/step - Accuracy: 0.5972 - loss: 1.6516\n",
            "Epoch 84/100\n",
            "\u001b[1m544/544\u001b[0m \u001b[32m━━━━━━━━━━━━━━━━━━━━\u001b[0m\u001b[37m\u001b[0m \u001b[1m13s\u001b[0m 23ms/step - Accuracy: 0.5941 - loss: 1.6523\n",
            "Epoch 85/100\n",
            "\u001b[1m544/544\u001b[0m \u001b[32m━━━━━━━━━━━━━━━━━━━━\u001b[0m\u001b[37m\u001b[0m \u001b[1m20s\u001b[0m 23ms/step - Accuracy: 0.6012 - loss: 1.6283\n",
            "Epoch 86/100\n",
            "\u001b[1m544/544\u001b[0m \u001b[32m━━━━━━━━━━━━━━━━━━━━\u001b[0m\u001b[37m\u001b[0m \u001b[1m20s\u001b[0m 23ms/step - Accuracy: 0.5967 - loss: 1.6430\n",
            "Epoch 87/100\n",
            "\u001b[1m544/544\u001b[0m \u001b[32m━━━━━━━━━━━━━━━━━━━━\u001b[0m\u001b[37m\u001b[0m \u001b[1m21s\u001b[0m 24ms/step - Accuracy: 0.5976 - loss: 1.6351\n",
            "Epoch 88/100\n",
            "\u001b[1m544/544\u001b[0m \u001b[32m━━━━━━━━━━━━━━━━━━━━\u001b[0m\u001b[37m\u001b[0m \u001b[1m21s\u001b[0m 24ms/step - Accuracy: 0.5994 - loss: 1.6231\n",
            "Epoch 89/100\n",
            "\u001b[1m544/544\u001b[0m \u001b[32m━━━━━━━━━━━━━━━━━━━━\u001b[0m\u001b[37m\u001b[0m \u001b[1m20s\u001b[0m 23ms/step - Accuracy: 0.6080 - loss: 1.6027\n",
            "Epoch 90/100\n",
            "\u001b[1m544/544\u001b[0m \u001b[32m━━━━━━━━━━━━━━━━━━━━\u001b[0m\u001b[37m\u001b[0m \u001b[1m13s\u001b[0m 23ms/step - Accuracy: 0.5992 - loss: 1.6281\n",
            "Epoch 91/100\n",
            "\u001b[1m544/544\u001b[0m \u001b[32m━━━━━━━━━━━━━━━━━━━━\u001b[0m\u001b[37m\u001b[0m \u001b[1m21s\u001b[0m 23ms/step - Accuracy: 0.6022 - loss: 1.6417\n",
            "Epoch 92/100\n",
            "\u001b[1m544/544\u001b[0m \u001b[32m━━━━━━━━━━━━━━━━━━━━\u001b[0m\u001b[37m\u001b[0m \u001b[1m21s\u001b[0m 24ms/step - Accuracy: 0.6121 - loss: 1.5801\n",
            "Epoch 93/100\n",
            "\u001b[1m544/544\u001b[0m \u001b[32m━━━━━━━━━━━━━━━━━━━━\u001b[0m\u001b[37m\u001b[0m \u001b[1m20s\u001b[0m 24ms/step - Accuracy: 0.6023 - loss: 1.6138\n",
            "Epoch 94/100\n",
            "\u001b[1m544/544\u001b[0m \u001b[32m━━━━━━━━━━━━━━━━━━━━\u001b[0m\u001b[37m\u001b[0m \u001b[1m20s\u001b[0m 23ms/step - Accuracy: 0.6008 - loss: 1.6385\n",
            "Epoch 95/100\n",
            "\u001b[1m544/544\u001b[0m \u001b[32m━━━━━━━━━━━━━━━━━━━━\u001b[0m\u001b[37m\u001b[0m \u001b[1m20s\u001b[0m 23ms/step - Accuracy: 0.6063 - loss: 1.5961\n",
            "Epoch 96/100\n",
            "\u001b[1m544/544\u001b[0m \u001b[32m━━━━━━━━━━━━━━━━━━━━\u001b[0m\u001b[37m\u001b[0m \u001b[1m20s\u001b[0m 23ms/step - Accuracy: 0.5984 - loss: 1.6314\n",
            "Epoch 97/100\n",
            "\u001b[1m544/544\u001b[0m \u001b[32m━━━━━━━━━━━━━━━━━━━━\u001b[0m\u001b[37m\u001b[0m \u001b[1m13s\u001b[0m 23ms/step - Accuracy: 0.6158 - loss: 1.5722\n",
            "Epoch 98/100\n",
            "\u001b[1m544/544\u001b[0m \u001b[32m━━━━━━━━━━━━━━━━━━━━\u001b[0m\u001b[37m\u001b[0m \u001b[1m13s\u001b[0m 23ms/step - Accuracy: 0.6104 - loss: 1.5921\n",
            "Epoch 99/100\n",
            "\u001b[1m544/544\u001b[0m \u001b[32m━━━━━━━━━━━━━━━━━━━━\u001b[0m\u001b[37m\u001b[0m \u001b[1m13s\u001b[0m 23ms/step - Accuracy: 0.6123 - loss: 1.5659\n",
            "Epoch 100/100\n",
            "\u001b[1m544/544\u001b[0m \u001b[32m━━━━━━━━━━━━━━━━━━━━\u001b[0m\u001b[37m\u001b[0m \u001b[1m21s\u001b[0m 23ms/step - Accuracy: 0.6105 - loss: 1.5647\n"
          ]
        },
        {
          "output_type": "execute_result",
          "data": {
            "text/plain": [
              "<keras.src.callbacks.history.History at 0x7ab8409bc050>"
            ]
          },
          "metadata": {},
          "execution_count": 23
        }
      ],
      "source": [
        "model.fit(X, y, epochs=100, verbose=1, batch_size=64)"
      ]
    },
    {
      "cell_type": "code",
      "execution_count": null,
      "id": "dd10c317-9f31-4d54-963a-122b57643a32",
      "metadata": {
        "id": "dd10c317-9f31-4d54-963a-122b57643a32"
      },
      "outputs": [],
      "source": [
        "model."
      ]
    }
  ],
  "metadata": {
    "kernelspec": {
      "display_name": "Python 3",
      "name": "python3"
    },
    "language_info": {
      "codemirror_mode": {
        "name": "ipython",
        "version": 3
      },
      "file_extension": ".py",
      "mimetype": "text/x-python",
      "name": "python",
      "nbconvert_exporter": "python",
      "pygments_lexer": "ipython3",
      "version": "3.12.3"
    },
    "colab": {
      "provenance": [],
      "toc_visible": true,
      "gpuType": "T4"
    },
    "accelerator": "GPU"
  },
  "nbformat": 4,
  "nbformat_minor": 5
}