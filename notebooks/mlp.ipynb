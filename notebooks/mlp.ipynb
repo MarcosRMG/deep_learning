{
 "cells": [
  {
   "cell_type": "markdown",
   "id": "34d36e7e-2da1-440c-b15c-1c38515169e9",
   "metadata": {},
   "source": [
    "# Imports"
   ]
  },
  {
   "cell_type": "code",
   "execution_count": 4,
   "id": "ecf6c721-230c-4dfb-9fb0-394f93fb4b50",
   "metadata": {},
   "outputs": [],
   "source": [
    "import pandas as pd\n",
    "from tensorflow import keras\n",
    "import requests"
   ]
  },
  {
   "cell_type": "markdown",
   "id": "e0ae9ce6-0ae6-400c-bdb6-cdc611bcaa2d",
   "metadata": {},
   "source": [
    "# Perceptron"
   ]
  },
  {
   "cell_type": "code",
   "execution_count": 21,
   "id": "9d7c28ba-0522-47fd-8a36-cdafdceb36c6",
   "metadata": {},
   "outputs": [],
   "source": [
    "perceptron = keras.Sequential(\n",
    "    [keras.layers.Dense(units=1, input_shape=[2])],\n",
    "    name='perceptron'\n",
    ")"
   ]
  },
  {
   "cell_type": "code",
   "execution_count": 22,
   "id": "bbb06de3-a7bc-4c4a-9916-c50b9a4699d4",
   "metadata": {},
   "outputs": [
    {
     "data": {
      "text/plain": [
       "<Sequential name=perceptron, built=True>"
      ]
     },
     "execution_count": 22,
     "metadata": {},
     "output_type": "execute_result"
    }
   ],
   "source": [
    "perceptron"
   ]
  },
  {
   "cell_type": "code",
   "execution_count": null,
   "id": "9771f552-a300-47d7-aa15-868fb3ca378e",
   "metadata": {},
   "outputs": [],
   "source": []
  }
 ],
 "metadata": {
  "kernelspec": {
   "display_name": "Python 3 (ipykernel)",
   "language": "python",
   "name": "python3"
  },
  "language_info": {
   "codemirror_mode": {
    "name": "ipython",
    "version": 3
   },
   "file_extension": ".py",
   "mimetype": "text/x-python",
   "name": "python",
   "nbconvert_exporter": "python",
   "pygments_lexer": "ipython3",
   "version": "3.12.3"
  }
 },
 "nbformat": 4,
 "nbformat_minor": 5
}
